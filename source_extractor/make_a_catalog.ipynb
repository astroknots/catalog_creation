{
 "cells": [
  {
   "cell_type": "markdown",
   "metadata": {},
   "source": [
    "## Cell 1:"
   ]
  },
  {
   "cell_type": "code",
   "execution_count": 2,
   "metadata": {},
   "outputs": [],
   "source": [
    "#Cell 1\n",
    "##########\n",
    "# 27 September 2021\n",
    "# K. M. Jones (kmj.jones@gmail.com)\n",
    "#This quick notebook takes in fully processed, registered, trimmed, and re-convolved astronomical images\n",
    "#and runs them through Source Extractor's dual image mode\n",
    "#using settings that were selected to best handle the data from GoGreen clusters of galaxies (described, and set, in default_dualimage.sex)\n",
    "#and produces an output Fits file holding a combined table of data from both the red and blue images\n",
    "#identified using the positions determined from the redder of the two images\n",
    "\n",
    "#It then adds two columns containing information from the weight images associated with\n",
    "#both the red and the blue (reprojected) image (the reprojected blue weight image)\n",
    "# hmmm shoot do I need to convolve that blue weight image too?? \n",
    "\n",
    "#next, it adds two columns of information that give the noise dispersion for the \n",
    "#flux_aper measurements made in red and blue"
   ]
  },
  {
   "cell_type": "markdown",
   "metadata": {},
   "source": [
    "## Cell 2:"
   ]
  },
  {
   "cell_type": "code",
   "execution_count": null,
   "metadata": {},
   "outputs": [],
   "source": [
    "#Cell 2\n",
    "from astropy.io import fits\n",
    "from astropy.table import Table\n",
    "import numpy as np\n",
    "import matplotlib.pyplot as plt\n",
    "import os\n",
    "import subprocess\n",
    "import getweight\n",
    "from astropy import wcs\n",
    "import depthcalc\n",
    "import scipy as sp\n",
    "import math as m\n"
   ]
  },
  {
   "cell_type": "markdown",
   "metadata": {},
   "source": [
    "## Cell 3:"
   ]
  },
  {
   "cell_type": "code",
   "execution_count": 8,
   "metadata": {
    "scrolled": true
   },
   "outputs": [],
   "source": [
    "#Cell 3\n",
    "#update this to have user input filered, fileblue, and output catalog names\n",
    "filered=\"../HSTdata/j210604m5845/j210604m5845-f105w_drz_sci.fits\"\n",
    "fileblue=\"../HSTdata/j2106_blue2red_exact_conv_apr21_5.fits\"\n",
    "\n",
    "red_hdu=fits.open(filered)\n",
    "blue_hdu=fits.open(fileblue)\n",
    "rhdr=red_hdu[0].header\n",
    "bhdr=blue_hdu[0].header\n",
    "photvals=[rhdr['PHOTFLAM'],rhdr['PHOTPLAM']]\n",
    "photvalsb=[bhdr['PHOTFLAM'],bhdr['PHOTPLAM']]\n",
    "\n",
    "#will need an output objectsubtracted or seg image to calculate the rms?\n",
    "#hmm, maybe to use the pre-dual-mode images to calc rms bc more accurate (more area, def) for ie blue\n",
    "\n",
    "wb=os.system(\"sextractor\" + \" \" + filered + \",\" + filered + \" -c default_dualimage.sex\")# -CATALOG_NAME j2106_dualrr_cbs_min5.cat -CHECKIMAGE_TYPE -OBJECTS -CHECKIMAGE_NAME j2106_dualrr_objsub_cbs_min5.fits\")\n",
    "wr=os.system(\"sextractor\" + \" \" + filered + \",\" + fileblue + \" -c default_dualimage.sex\") # -CATALOG_NAME j2106_dualrb_cbs_min5.cat -CHECKIMAGE_TYPE SEGMENTATION -CHECKIMAGE_NAME j2106_dualrb_seg_cbs_min5.fits\")"
   ]
  },
  {
   "cell_type": "markdown",
   "metadata": {},
   "source": [
    "##  Cell 4:"
   ]
  },
  {
   "cell_type": "code",
   "execution_count": 9,
   "metadata": {
    "scrolled": true
   },
   "outputs": [],
   "source": [
    "#Cell 4\n",
    "f=open('j2106_dualrr_cbs_min5.cat','r')\n",
    "g=open('j2106_dualrb_cbs_min5.cat','r')\n",
    "#typehold='f8,f8,f8,f8,i8,f8,f8,f8,f8,f8,f8,f8,f8,f8,i8,f8,f8,f8'\n",
    "colnames=['SE_ID_f105w','X_IMAGE_f105w','Y_IMAGE_f105w','ALPHA_J2000_f105w','DELTA_J2000_f105w','SEFLAGS_f105w','CLASS_STAR_f105w','FLUX_AUTO_f105w','FLUXERR_AUTO_f105w','FLUX_ISO_f105w','FLUXERR_ISO_f105w','FLUX_APER_f105w','FLUXERR_APER_f105w','FWHM_IMAGE_f105w','KRON_RADIUS_f105w','ISOAREA_IMAGE_f105w','A_IMAGE_f105w','B_IMAGE_f105w','THETA_IMAGE_f105w']\n",
    "colnames2=['X_IMAGE_f606w','Y_IMAGE_f606w','ALPHA_J2000_f606w','DELTA_J2000_f606w','SEFLAGS_f606w','CLASS_STAR_f606w','FLUX_AUTO_f606w','FLUXERR_AUTO_f606w','FLUX_ISO_f606w','FLUXERR_ISO_f606w','FLUX_APER_f606w','FLUXERR_APER_f606w','FWHM_IMAGE_f606w','KRON_RADIUS_f606w','ISOAREA_IMAGE_f606w','A_IMAGE_f606w','B_IMAGE_f606w','THETA_IMAGE_f606w']\n",
    "\n",
    "datarr=np.genfromtxt(f,skip_header=19,comments='#',usecols=(0,1,2,3,4,5,6,7,8,9,10,11,12,13,14,15,16,17,18))\n",
    "\n",
    "datarb=np.genfromtxt(g,skip_header=19,comments='#',usecols=(1,2,3,4,5,6,7,8,9,10,11,12,13,14,15,16,17,18))\n",
    "\n",
    "#row-based arrangement\n",
    "data_total=np.concatenate((datarr,datarb),axis=1)\n",
    "nms=np.concatenate((colnames, colnames2),axis=0)\n",
    "\n",
    "\n",
    "\n",
    "#print(nms)\n",
    "\n",
    "#print(np.shape(datarr),np.shape(datarb),np.shape(data_total))\n",
    "#print(datarr[0,13],datarr[0,14])\n",
    "#print(datarb[0,12],datarb[0,13])\n",
    "#print(data_total[6,13],data_total[6,14])\n",
    "#print(data_total[6,30],data_total[6,31])"
   ]
  },
  {
   "cell_type": "markdown",
   "metadata": {},
   "source": [
    "## Cell 5:"
   ]
  },
  {
   "cell_type": "code",
   "execution_count": 10,
   "metadata": {},
   "outputs": [
    {
     "name": "stdout",
     "output_type": "stream",
     "text": [
      "red auto iso aper: (array([7]),) (array([9]),) (array([11]),)\n",
      "blue auto iso aper: (array([25]),) (array([27]),) (array([29]),)\n"
     ]
    }
   ],
   "source": [
    "#Cell 5\n",
    "##### convert units for catalog output\n",
    "#make units: uJy (for catalog; convert to magnitude when USE catalog to make plot\n",
    "# OR Give f/f(m=25) as the catalog quantity,\n",
    "#such that you can compute AB magnitude using m = -2.5 * log(f/f(m=25)) + 25\n",
    "#note that FLUXAPER and FLUXAUTO and etc that result from \n",
    "#source extractor should be in *counts*, so need to be converted to Jy first.\n",
    "\n",
    "print('red auto iso aper:',np.where(nms=='FLUX_AUTO_f105w'),np.where(nms=='FLUX_ISO_f105w'),np.where(nms=='FLUX_APER_f105w'))\n",
    "print('blue auto iso aper:',np.where(nms=='FLUX_AUTO_f606w'),np.where(nms=='FLUX_ISO_f606w'),np.where(nms=='FLUX_APER_f606w'))\n",
    "\n",
    "\n",
    "\n",
    "photflam_red=photvals[0]\n",
    "photflam_blue=photvalsb[0]\n",
    "photplam_red=photvals[1]\n",
    "photplam_blue=photvalsb[1]\n",
    "c_ang=sp.constants.c * (10.0**10.0)\n",
    "conversion=((photplam_red*photplam_red)/c_ang)*(1.0/(10.0**(-23.0)))*(10.0**6.0)\n",
    "convb=((photplam_blue*photplam_blue)/c_ang)*(1.0/(10.0**(-23.0)))*(10.0**6.0)\n",
    "\n",
    "countsauto_f105w=data_total[:,int(np.where(nms=='FLUX_AUTO_f105w')[0])] #from lines 8 and 9 in this cell\n",
    "#cerr_auto_f105w=data_total[:,int(np.where(nms=='FLUXERR_AUTO_f105w')[0])]\n",
    "countsiso_f105w=data_total[:,int(np.where(nms=='FLUX_ISO_f105w')[0])]\n",
    "#cerr_iso_f105w=data_total[:,int(np.where(nms=='FLUXERR_ISO_f105w')[0])]\n",
    "countsaper_f105w=data_total[:,int(np.where(nms=='FLUX_APER_f105w')[0])]\n",
    "#cerr_aper_f105w=data_total[:,int(np.where(nms=='FLUXERR_APER_f105w')[0])]\n",
    "countsauto_f606w=data_total[:,int(np.where(nms=='FLUX_AUTO_f606w')[0])]\n",
    "#cerr_auto_f606w=data_total[:,int(np.where(nms=='FLUXERR_AUTO_f606w')[0])]\n",
    "countsiso_f606w=data_total[:,int(np.where(nms=='FLUX_ISO_f606w')[0])]\n",
    "#cerr_iso_f606w=data_total[:,int(np.where(nms=='FLUXERR_ISO_f606w')[0])]\n",
    "countsaper_f606w=data_total[:,int(np.where(nms=='FLUX_APER_f606w')[0])]\n",
    "#cerr_aper_f606w=data_total[:,int(np.where(nms=='FLUXERR_APER_f606w')[0])]\n",
    "\n",
    "#recall f_nu= pivot lambda^2/c * flambda?\n",
    "flambda_auto_f105w=countsauto_f105w*photflam_red\n",
    "fnu_auto_f105w = flambda_auto_f105w*conversion #now in microJansky\n",
    "flambda_iso_f105w=countsiso_f105w*photflam_red\n",
    "fnu_iso_f105w = flambda_iso_f105w*conversion #now in microJansky\n",
    "flambda_aper_f105w=countsaper_f105w*photflam_red\n",
    "fnu_aper_f105w = flambda_aper_f105w*conversion #now in microJansky\n",
    "flam_auto_606=countsauto_f606w*photflam_blue\n",
    "fnu_auto_f606w=flam_auto_606*convb #now in microJansky\n",
    "flam_iso_f606w=countsiso_f606w*photflam_blue\n",
    "fnu_iso_f606w=flam_iso_f606w*convb\n",
    "flam_aper_f606w=countsaper_f606w*photflam_blue\n",
    "fnu_aper_f606w=flam_aper_f606w*convb\n",
    "\n"
   ]
  },
  {
   "cell_type": "markdown",
   "metadata": {},
   "source": [
    "## Cell 6:"
   ]
  },
  {
   "cell_type": "code",
   "execution_count": 11,
   "metadata": {
    "scrolled": true
   },
   "outputs": [
    {
     "name": "stdout",
     "output_type": "stream",
     "text": [
      "10694.942 29770.775825471697\n"
     ]
    }
   ],
   "source": [
    "#Cell 6\n",
    "\n",
    "##Pull the weight value from the corresponding(ish) pixel for each band's wht.fits\n",
    "\n",
    "\n",
    "#oh, crap, x_image and y_image aren't integers -.-\n",
    "#round them to the nearest integer and then subtract 1 from each to feed \n",
    "#into the array that wi gives (a regular ol array starts at 0,0)\n",
    "redwht=\"../HSTdata/j210604m5845/j210604m5845-f105w_drz_wht.fits\"\n",
    "bluewht=\"../HSTdata/j2106_blue2red_exactfinal_wht.fits\"\n",
    "#above is the weight image, reprojected (blue2red_exactfinal)\n",
    "#uhhhhhhh should I convolve it too? IDK why, that should only concern the spread of flux, not weight\n",
    "#bluewht=\"../HSTdata/j210604m5845/j210604m5845-f606w_drc_wht.fits\"\n",
    "\n",
    "wi_f105w=[]\n",
    "wi_f606w=[]\n",
    "\n",
    "\n",
    "for i in range(len(data_total[:,1])):\n",
    "    wix=round(data_total[i,1])\n",
    "    wiy=round(data_total[i,2])\n",
    "    wir=getweight.wi(redwht,wix,wiy)\n",
    "    wi_f105w.append(wir)\n",
    "    wib=getweight.wi(bluewht,wix,wiy)\n",
    "    wi_f606w.append(wib)\n",
    "\n",
    "wr10pct,wrmax=getweight.getmax(redwht)\n",
    "wb10pct,wbmax=getweight.getmax(bluewht)\n",
    "print(wr10pct,wb10pct)\n",
    "#output these to meta-table? or just use em myself\n",
    "\n",
    "#add wi columns\n",
    "wif105w=np.array(wi_f105w)\n",
    "wir_wimx=wif105w/wr10pct\n",
    "wi_red=wir_wimx.reshape((1740,1))\n",
    "wif606w=np.array(wi_f606w)\n",
    "wib_wimx=wif606w/wb10pct\n",
    "wi_blue=wib_wimx.reshape((1740,1))\n",
    "\n",
    "\n",
    "#####a little check demonstrating why we want wb10pct instead of wbmax\n",
    "####don't need to run this\n",
    "#wr10pct,wrmax=getweight.getmax(redwht)\n",
    "#wb10pct,wbmax=getweight.getmax(bluewht)\n",
    "#print('10percent from the top red, highestred, then same for blue,blue',wr10pct,wrmax)\n",
    "#print(wb10pct,wbmax)\n",
    "#plt.plot(wif606w,'g.') shows why we want wb10pct instead of wbmax\n",
    "\n"
   ]
  },
  {
   "cell_type": "markdown",
   "metadata": {},
   "source": [
    "## Cell 7:"
   ]
  },
  {
   "cell_type": "code",
   "execution_count": 12,
   "metadata": {},
   "outputs": [
    {
     "name": "stdout",
     "output_type": "stream",
     "text": [
      "STDEV of all \"valid\" pixels in scidata: 0.020604307\n",
      "rms actual: 0.020604441\n",
      "STDEV of all \"valid\" pixels in scidata: 0.0024854857416880703\n",
      "rms actual: 0.002497132541572541\n"
     ]
    },
    {
     "name": "stderr",
     "output_type": "stream",
     "text": [
      "/home/k689j329/anaconda2/envs/python3/lib/python3.6/site-packages/ipykernel_launcher.py:48: RuntimeWarning: divide by zero encountered in true_divide\n",
      "/home/k689j329/anaconda2/envs/python3/lib/python3.6/site-packages/ipykernel_launcher.py:49: RuntimeWarning: divide by zero encountered in true_divide\n",
      "/home/k689j329/anaconda2/envs/python3/lib/python3.6/site-packages/ipykernel_launcher.py:49: RuntimeWarning: invalid value encountered in true_divide\n",
      "/home/k689j329/anaconda2/envs/python3/lib/python3.6/site-packages/ipykernel_launcher.py:50: RuntimeWarning: divide by zero encountered in true_divide\n",
      "/home/k689j329/anaconda2/envs/python3/lib/python3.6/site-packages/ipykernel_launcher.py:51: RuntimeWarning: divide by zero encountered in true_divide\n",
      "/home/k689j329/anaconda2/envs/python3/lib/python3.6/site-packages/ipykernel_launcher.py:52: RuntimeWarning: divide by zero encountered in true_divide\n",
      "/home/k689j329/anaconda2/envs/python3/lib/python3.6/site-packages/ipykernel_launcher.py:52: RuntimeWarning: invalid value encountered in true_divide\n",
      "/home/k689j329/anaconda2/envs/python3/lib/python3.6/site-packages/ipykernel_launcher.py:53: RuntimeWarning: divide by zero encountered in true_divide\n"
     ]
    }
   ],
   "source": [
    "#Cell 7\n",
    "### make/calculate/construct new errrors for flux auto1 and flux auto2\n",
    "#disp_i(N) = N*o_bar(a_i + (b_i * N))/np.sqrt(wi)\n",
    "#need: N, linear size = sqrt(area) ~radius. aperture is 5.0 pixels diameter so 2.5 pix radius\n",
    "#o_bar (rms for the image/band),\n",
    "#ai and bi (coefficients of the parameterized function for the image/band)\n",
    "#weight value (wi, not wi/wimax)\n",
    "denomr=np.sqrt(wif105w)\n",
    "denomb=np.sqrt(wif606w)\n",
    "\n",
    "\n",
    "kr_red = data_total[:,int(np.where(nms=='KRON_RADIUS_f105w')[0])]#this isn't radius yet\n",
    "a_red=data_total[:,int(np.where(nms=='A_IMAGE_f105w')[0])]\n",
    "b_red=data_total[:,int(np.where(nms=='B_IMAGE_f105w')[0])]\n",
    "N_AUTOred=np.sqrt(m.pi*(a_red*kr_red)*(b_red*kr_red))\n",
    "kr_blue = data_total[:,int(np.where(nms=='KRON_RADIUS_f606w')[0])]\n",
    "a_blue=data_total[:,int(np.where(nms=='A_IMAGE_f606w')[0])]\n",
    "b_blue=data_total[:,int(np.where(nms=='B_IMAGE_f606w')[0])]\n",
    "N_AUTOblue= np.sqrt(m.pi*(a_blue*kr_blue)*(b_blue*kr_blue))\n",
    "\n",
    "Naper = 2.5  #aperture is 5.0 pixels diameter so 2.5 pix radius . NOTE THIS IS N_APER; same for red and blue\n",
    "N_ISO1red = data_total[:,int(np.where(nms=='ISOAREA_IMAGE_f105w')[0])] #this should = sqrt of ISO_AREA\n",
    "N_ISO_f105w=np.sqrt(N_ISO1red)\n",
    "N_ISO1blue = data_total[:,int(np.where(nms=='ISOAREA_IMAGE_f606w')[0])]\n",
    "N_ISO_f606w=np.sqrt(N_ISO1blue)\n",
    "\n",
    "#well, I should read this out of the meta-table that I haven't created yet\n",
    "#specific to individual bands and clusters (each image)\n",
    "#C1 and C2 come from fitting in Working_Depth.ipynb\n",
    "fileredmask='/home/k689j329/HSTdata/j210604m5845/j210604m5845-f105w_drz_sci_mask.fits'\n",
    "fileredseg='/home/k689j329/HSTdata/j210604m5845/j210604m5845_f105w_seg_newnorm3.fits'\n",
    "obar_counts_f105w,useless=depthcalc.rmscalc(filered,fileredmask,fileredseg,[5,10]) #(note that these are just some random values in the array bc it requires it to be input to make the second output; but we don't care about the second output so basically ignore. later on I should set it up to be default turned off or something)\n",
    "obar_f105w=obar_counts_f105w*photflam_red*conversion\n",
    "C1_f105w=0.01652168137\n",
    "a_f105w=C1_f105w/obar_f105w\n",
    "C2_f105w=0.002475885999\n",
    "b_f105w=C2_f105w/obar_f105w\n",
    "\n",
    "filebluemask='/home/k689j329/HSTdata/j2106_blue2red_exact_conv_apr21_5_mask.fits'\n",
    "fileblueseg='/home/k689j329/sextractor-2.19.5/j2106_b2rec_apr21_5_seg.fits'\n",
    "obar_counts_f606w,useless=depthcalc.rmscalc(fileblue,filebluemask,fileblueseg,[5,10])\n",
    "obar_f606w=obar_counts_f606w*photflam_blue*convb\n",
    "C1_f606w=0.01246307609\n",
    "a_f606w=C1_f606w/obar_f606w\n",
    "C2_f606w=0.0002696116525 ###these coefficients are unitless btw\n",
    "b_f606w=C2_f606w/obar_f606w\n",
    "\n",
    "#fluxerrs in counts\n",
    "fluxerr_aper_f105w=(C1_f105w*Naper + C2_f105w*Naper*Naper)/denomr\n",
    "fluxerr_auto_f105w=(C1_f105w*N_AUTOred + C2_f105w*N_AUTOred*N_AUTOred)/denomr\n",
    "fluxerr_iso_f105w=(C1_f105w*N_ISO_f105w + C2_f105w*N_ISO_f105w*N_ISO_f105w)/denomr\n",
    "fluxerr_aper_f606w=(C1_f606w*Naper + C2_f606w*Naper*Naper)/denomb\n",
    "fluxerr_auto_f606w=(C1_f606w*N_AUTOblue + C2_f606w*N_AUTOblue*N_AUTOblue)/denomb\n",
    "fluxerr_iso_f606w=(C1_f606w*N_ISO_f105w + C2_f606w*N_ISO_f606w*N_ISO_f606w)/denomb\n",
    "\n",
    "#convert to fluxes; ratios of s/n (or n/s, whatev) in counts and in flux should be the same, so scale:\n",
    "delff_105w = fluxerr_aper_f105w/countsaper_f105w\n",
    "fluxerr_aper_jy_f105w = delff_105w*fnu_aper_f105w\n",
    "delff_auto_red = fluxerr_auto_f105w/countsauto_f105w\n",
    "fluxerr_auto_jy_f105w = delff_auto_red*fnu_auto_f105w\n",
    "delff_iso_red = fluxerr_iso_f105w/countsiso_f105w\n",
    "fluxerr_iso_jy_f105w = delff_iso_red*fnu_iso_f105w\n",
    "\n",
    "delff_606w=fluxerr_aper_f606w/countsaper_f606w\n",
    "fluxerr_aper_jy_f606w=delff_606w*fnu_aper_f606w\n",
    "delff_auto_blue=fluxerr_auto_f606w/countsauto_f606w\n",
    "fluxerr_auto_jy_f606w=delff_auto_blue*fnu_auto_f606w\n",
    "delff_iso_blue=fluxerr_iso_f606w/countsiso_f606w\n",
    "fluxerr_iso_jy_f606w=delff_iso_blue*fnu_iso_f606w\n",
    "\n",
    "#print(np.shape(fluxerr_auto_jy_f606w[np.isnan(fluxerr_auto_jy_f606w)]))\n",
    "#hmm, a few NaNs preserved\n",
    "\n",
    "#####just checking on the flux conversion for the errors and the fluxes\n",
    "####don't need this chunk to do anything.\n",
    "#fea105w_jy=fluxerr_aper_f105w*photflam_red*conversion\n",
    "#fea606w_jy=fluxerr_aper_f606w*photflam_blue\n",
    "#delf_f_ratio=fluxerr_aper_f105w/countsaper_f105w\n",
    "#delf_f_rat_jy=fea105w_jy/fnu_aper_f105w\n",
    "#ratio2=delf_f_rat_jy/delf_f_ratio\n",
    "#print(np.shape(ratio2))\n",
    "#print(np.shape(ratio2[np.where(ratio2>0.99999985)]))\n",
    "#print(np.shape(ratio2[np.isnan(ratio2)]))\n",
    "#ah, yep, the two ratios, in counts and janskies, are virtually identical (at far less than ~ few % level)\n",
    "#so either method works.\n"
   ]
  },
  {
   "cell_type": "markdown",
   "metadata": {},
   "source": [
    "## Cell 8:"
   ]
  },
  {
   "cell_type": "code",
   "execution_count": 13,
   "metadata": {},
   "outputs": [
    {
     "name": "stdout",
     "output_type": "stream",
     "text": [
      "(1740, 37) (1740, 39)\n"
     ]
    }
   ],
   "source": [
    "#Cell 8\n",
    "\n",
    "#turn output data into a fits table\n",
    "\n",
    "data_total1=data_total.copy()\n",
    "data_total1[:,int(np.where(nms=='FLUX_AUTO_f105w')[0])] = fnu_auto_f105w[:]\n",
    "data_total1[:,int(np.where(nms=='FLUXERR_AUTO_f105w')[0])] = fluxerr_auto_jy_f105w[:]\n",
    "data_total1[:,int(np.where(nms=='FLUX_ISO_f105w')[0])] = fnu_iso_f105w[:]\n",
    "data_total1[:,int(np.where(nms=='FLUXERR_ISO_f105w')[0])] = fluxerr_iso_jy_f105w[:]\n",
    "data_total1[:,int(np.where(nms=='FLUX_APER_f105w')[0])] = fnu_aper_f105w[:]\n",
    "data_total1[:,int(np.where(nms=='FLUXERR_APER_f105w')[0])] = fluxerr_aper_jy_f105w[:]\n",
    "data_total1[:,int(np.where(nms=='FLUX_AUTO_f606w')[0])] = fnu_auto_f606w[:]\n",
    "data_total1[:,int(np.where(nms=='FLUXERR_AUTO_f606w')[0])] = fluxerr_auto_jy_f606w[:]\n",
    "data_total1[:,int(np.where(nms=='FLUX_ISO_f606w')[0])] = fnu_iso_f606w[:]\n",
    "data_total1[:,int(np.where(nms=='FLUXERR_ISO_f606w')[0])] = fluxerr_iso_jy_f606w[:]\n",
    "data_total1[:,int(np.where(nms=='FLUX_APER_f606w')[0])] = fnu_aper_f606w[:]\n",
    "data_total1[:,int(np.where(nms=='FLUXERR_APER_f606w')[0])] = fluxerr_aper_jy_f606w[:]\n",
    "\n",
    "\n",
    "#data_total2=np.concatenate((data_total1,FLUXERR_APER_F105w,FLUXERR_APER_F606w),axis=1)\n",
    "data_total2=np.concatenate((data_total1,wi_red,wi_blue),axis=1)\n",
    "print(np.shape(data_total1),np.shape(data_total2))\n",
    "\n",
    "coltot=np.concatenate((colnames,colnames2,['F105w_normweight'],['F606w_normweight']),axis=0)\n",
    "k=0\n",
    "n=[]\n",
    "for item in coltot:\n",
    "    a=fits.Column(name=item,array=data_total2[:,k],format='f8')\n",
    "    n.append(a)\n",
    "    k+=1\n",
    "\n",
    "t=fits.BinTableHDU.from_columns(n)\n",
    "#t.writeto('catalog_dualmode_j210604m5845.fits')\n",
    "\n"
   ]
  },
  {
   "cell_type": "code",
   "execution_count": 27,
   "metadata": {
    "scrolled": true
   },
   "outputs": [
    {
     "name": "stdout",
     "output_type": "stream",
     "text": [
      "-hmm, not sure why there are a few points in the weight image with bizarre weight values (extra high), but clearly this is gonna lead to wi/wmax that are greater than 1\n",
      "-so, probably need to flag anything with the column >1, for both wib_wimx and wir_wimx\n"
     ]
    },
    {
     "data": {
      "image/png": "[encoded data removed]",
      "text/plain": [
       "<Figure size 432x288 with 1 Axes>"
      ]
     },
     "metadata": {
      "needs_background": "light"
     },
     "output_type": "display_data"
    }
   ],
   "source": [
    "plt.plot(wif606w,'g.')\n",
    "print('-hmm, not sure why there are a few points in the weight image with bizarre weight values (extra high), but clearly this is gonna lead to wi/wmax that are greater than 1')\n",
    "print('-so, probably need to flag anything with the column >1, for both wib_wimx and wir_wimx')"
   ]
  },
  {
   "cell_type": "code",
   "execution_count": null,
   "metadata": {},
   "outputs": [],
   "source": []
  }
 ],
 "metadata": {
  "kernelspec": {
   "display_name": "Python 3",
   "language": "python",
   "name": "python3"
  },
  "language_info": {
   "codemirror_mode": {
    "name": "ipython",
    "version": 3
   },
   "file_extension": ".py",
   "mimetype": "text/x-python",
   "name": "python",
   "nbconvert_exporter": "python",
   "pygments_lexer": "ipython3",
   "version": "3.6.12"
  }
 },
 "nbformat": 4,
 "nbformat_minor": 4
}
