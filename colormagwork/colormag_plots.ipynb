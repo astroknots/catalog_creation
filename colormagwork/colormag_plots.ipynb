{
 "cells": [
  {
   "cell_type": "markdown",
   "metadata": {},
   "source": [
    "## Cell 1:"
   ]
  },
  {
   "cell_type": "code",
   "execution_count": 18,
   "metadata": {},
   "outputs": [],
   "source": [
    "#cell 1\n",
    "from astropy.io import fits\n",
    "import astropy.table\n",
    "from astropy.table import Table\n",
    "import numpy as np\n",
    "import matplotlib.pyplot as plt\n",
    "import math\n",
    "import os,sys,random,time\n",
    "import matplotlib.backends.backend_pdf\n",
    "#from matplotlib.backends.backend_pdf import PdfPages\n",
    "from astropy.io import fits\n",
    "import scipy.stats as ss\n",
    "from astropy.modeling import models, fitting\n",
    "import depthcalc\n",
    "from astropy.coordinates import SkyCoord\n",
    "import astropy.units as u\n",
    "import matplotlib.path as mpath\n",
    "import scipy as sp\n",
    "import math as m"
   ]
  },
  {
   "cell_type": "markdown",
   "metadata": {},
   "source": [
    "## Cell 2:"
   ]
  },
  {
   "cell_type": "code",
   "execution_count": 19,
   "metadata": {},
   "outputs": [
    {
     "name": "stdout",
     "output_type": "stream",
     "text": [
      "['SE_ID_f105w', 'X_IMAGE_f105w', 'Y_IMAGE_f105w', 'ALPHA_J2000_f105w', 'DELTA_J2000_f105w', 'SEFLAGS_f105w', 'CLASS_STAR_f105w', 'FLUX_AUTO_f105w', 'FLUXERR_AUTO_f105w', 'FLUX_ISO_f105w', 'FLUXERR_ISO_f105w', 'FLUX_APER_f105w', 'FLUXERR_APER_f105w', 'FWHM_IMAGE_f105w', 'KRON_RADIUS_f105w', 'ISOAREA_IMAGE_f105w', 'A_IMAGE_f105w', 'B_IMAGE_f105w', 'THETA_IMAGE_f105w', 'X_IMAGE_f606w', 'Y_IMAGE_f606w', 'ALPHA_J2000_f606w', 'DELTA_J2000_f606w', 'SEFLAGS_f606w', 'CLASS_STAR_f606w', 'FLUX_AUTO_f606w', 'FLUXERR_AUTO_f606w', 'FLUX_ISO_f606w', 'FLUXERR_ISO_f606w', 'FLUX_APER_f606w', 'FLUXERR_APER_f606w', 'FWHM_IMAGE_f606w', 'KRON_RADIUS_f606w', 'ISOAREA_IMAGE_f606w', 'A_IMAGE_f606w', 'B_IMAGE_f606w', 'THETA_IMAGE_f606w', 'F105w_normweight', 'F606w_normweight']\n"
     ]
    }
   ],
   "source": [
    "#cell 2\n",
    "#Open and input the catalog file and other relevant files like photovalues\n",
    "#need to edit: original_red_image, fileblue, convd_blue_image,catname\n",
    "\n",
    "\n",
    "\n",
    "original_red_image=\"/home/k689j329/HSTdata/j210604m5845/j210604m5845-f105w_drz_sci.fits\"\n",
    "fileblue=\"/home/k689j329/HSTdata/j2106_blue2red_exact_conv_apr21_5.fits\"\n",
    "convd_blue_image=\"/home/k689j329/HSTdata/j210604m5845/j210604m5845-f606w_drc_sci.fits\"\n",
    "filebluemask='/home/k689j329/HSTdata/j2106_blue2red_exact_conv_apr21_5_mask.fits'\n",
    "fileblueseg='/home/k689j329/sextractor-2.19.5/j2106_b2rec_apr21_5_seg.fits'\n",
    "\n",
    "original_hdu=fits.open(original_red_image)\n",
    "blue_hdu=fits.open(convd_blue_image)\n",
    "ohdr=original_hdu[0].header\n",
    "bhdr=blue_hdu[0].header\n",
    "photvals=[ohdr['PHOTFLAM'],ohdr['PHOTPLAM']]\n",
    "photvalsb=[bhdr['PHOTFLAM'],bhdr['PHOTPLAM']]\n",
    "#print(photvals)\n",
    "#print(photvalsb)\n",
    "\n",
    "\n",
    "catname='catalog_dualmode_j210604m5845.fits'\n",
    "t=Table.read(catname,format='fits')\n",
    "print(t.colnames)\n",
    "\n",
    "#filter out the not-star and not-contaminated objects\n",
    "noflags= (t['SEFLAGS_f105w'] < 0.5) & (t['SEFLAGS_f606w'] < 0.5)\n",
    "notstars=(t['CLASS_STAR_f105w'] < 0.8) & (t['CLASS_STAR_f606w'] < 0.8)\n",
    "goodweights=(t['F105w_normweight'] < 1.0) & (t['F606w_normweight'] < 1.0)\n",
    "noprob= noflags & notstars & goodweights\n",
    "formernoprob=notstars & noflags\n",
    "\n",
    "#print(np.size(t[formernoprob]),np.size(t[noprob]))\n"
   ]
  },
  {
   "cell_type": "markdown",
   "metadata": {},
   "source": [
    "## Cell 3:"
   ]
  },
  {
   "cell_type": "code",
   "execution_count": 20,
   "metadata": {
    "scrolled": true
   },
   "outputs": [],
   "source": [
    "#cell 3\n",
    "#FIND SPECTROSCOPICALLY CONFIRMED MEMBERS/NONMEMBERS OF THE GOGREEN DATA AND COMPARE \n",
    "\n",
    "##this opens the gogreen data file\n",
    "gogreen='/home/k689j329/gogreen_photometry.fits'\n",
    "gg=fits.open(gogreen)\n",
    "datagg=gg[1].data\n",
    "\n",
    "\n",
    "data_j2106=datagg.Cluster == 'SPT2106'\n",
    "j21_hold=datagg[data_j2106]\n",
    "good_zspec1 = (j21_hold.Redshift_Quality == 4) | (j21_hold.Redshift_Quality == 3)\n",
    "#print(np.size(datagg[data_j2106]),np.size(datagg[data_j2106][good_zspec1]))\n",
    "#print(datagg[data_j2106][good_zspec1]['zspec'])\n",
    "\n",
    "\n",
    "##this matches the gogreen ra and dec to the ra and dec of our catalog\n",
    "\n",
    "gg_cat=SkyCoord(ra=datagg[data_j2106][good_zspec1]['ra']*u.degree,dec=datagg[data_j2106][good_zspec1]['dec']*u.degree)\n",
    "\n",
    "t_cat=SkyCoord(ra=t['ALPHA_J2000_f105w']*u.degree,dec=t['DELTA_J2000_f105w']*u.degree)\n",
    "\n",
    "idx,d2d,d3d=gg_cat.match_to_catalog_sky(t_cat,nthneighbor=1)\n",
    "\n",
    "nearby = d2d < 1.0*u.arcsec\n",
    "\n",
    "\n",
    "\n",
    "\n",
    "#a few plots for testing positions (vary the value of nearby to experiment)\n",
    "#how good are positions?\n",
    "#plt.plot(t[idx]['DELTA_J2000'],t[idx]['ALPHA_J2000']-datagg[data_j2106][good_zspec1]['ra'],'mo')\n",
    "#plt.plot(t[idx[nearby]]['DELTA_J2000'],t[idx[nearby]]['ALPHA_J2000']-datagg[data_j2106][good_zspec1][nearby]['ra'],'c.')\n",
    "#plt.show()\n",
    "#plt.plot(d2d[nearby],'b.')\n",
    "#plt.ylabel('distance between matches (arcsec)')\n",
    "#plt.show()\n",
    "\n",
    "#how good are positions2?\n",
    "#plt.plot(t[noprob]['ALPHA_J2000'],t[noprob]['DELTA_J2000'],'k+',alpha=0.5,label='high quality dual-mode SE-detected sources from HST')\n",
    "#plt.plot(datagg[data_j2106][good_zspec1]['ra'],datagg[data_j2106][good_zspec1]['dec'],'D',color='indigo',label='GoGreen sources that matched with the high quality SE data')\n",
    "#plt.plot(datagg[data_j2106][good_zspec1][nearby]['ra'],datagg[data_j2106][good_zspec1][nearby]['dec'],'.',color='cyan',label='Sources matched GoGreen with separation <1\" ')\n",
    "#plt.title('Comparison between catalogs--GoGreen positions')\n",
    "#plt.xlabel('ALPHA_J2000')\n",
    "#plt.ylabel('DEC_J2000')\n",
    "#plt.legend()\n",
    "#plt.show()\n",
    "\n",
    "#how good are positions3?\n",
    "#plt.plot(t[noprob]['ALPHA_J2000'],t[noprob]['DELTA_J2000'],'k+',alpha=0.5,label='high quality dual-mode SE-detected sources from HST')\n",
    "#plt.plot(t[idx]['ALPHA_J2000'],t[idx]['DELTA_J2000'],'D',color='indigo',label='Sources matched with GoGreen catalog')\n",
    "#plt.plot(t[idx][nearby]['ALPHA_J2000'],t[idx][nearby]['DELTA_J2000'],'.',color='cyan',label='Sources matched GoGreen with proximity of <1\" ')\n",
    "#plt.title('Comparison between catalogs--SE generated positions')\n",
    "#plt.xlabel('ALPHA_J2000')\n",
    "#plt.ylabel('DEC_J2000')\n",
    "#plt.legend(prop={\"size\":8})\n",
    "#plt.show()\n"
   ]
  },
  {
   "cell_type": "markdown",
   "metadata": {},
   "source": [
    "## Cell 4:"
   ]
  },
  {
   "cell_type": "code",
   "execution_count": 46,
   "metadata": {
    "scrolled": true
   },
   "outputs": [
    {
     "name": "stderr",
     "output_type": "stream",
     "text": [
      "/home/k689j329/anaconda2/envs/python3/lib/python3.6/site-packages/ipykernel_launcher.py:14: RuntimeWarning: invalid value encountered in log10\n",
      "  \n"
     ]
    },
    {
     "name": "stdout",
     "output_type": "stream",
     "text": [
      "STDEV of all \"valid\" pixels in scidata: 0.0024854857416880703\n",
      "rms actual (square root of the mean of the squared values of all valid data points): 0.002497132541572541\n",
      "flux lim b 0.032842763053125\n",
      "flux lim b better units? 0.002992605299704551\n",
      "obar blue 0.00022647539705731546\n"
     ]
    },
    {
     "name": "stderr",
     "output_type": "stream",
     "text": [
      "/home/k689j329/anaconda2/envs/python3/lib/python3.6/site-packages/ipykernel_launcher.py:70: RuntimeWarning: invalid value encountered in log10\n"
     ]
    }
   ],
   "source": [
    "#cell 4:\n",
    "#need phot_f_lambda and phot_p_lambda to run depthcalc.depth()\n",
    "# note these equations are derived from\n",
    "#https://hst-docs.stsci.edu/wfc3dhb/chapter-9-wfc3-data-analysis/9-1-wfc3-data-analysis\n",
    "# https://www.stsci.edu/hst/instrumentation/wfc3/data-analysis/photometric-calibration/uvis-photometric-calibration\n",
    "##USE AUTO FOR MAG, NOT APER\n",
    "#USE APER FOR COLORS\n",
    "\n",
    "#making the color and the mag for the color-mag diagram\n",
    "abmagzpt_red=-2.5*np.log10(photvals[0]) - 21.10 - 5.0*np.log10(photvals[1]) + 18.692\n",
    "abmagzpt_blue=-2.5*np.log10(photvalsb[0]) - 21.10 - 5.0*np.log10(photvalsb[1]) + 18.692\n",
    "#abmag_depth=-2.5*np.log10(5.0*stdev_empty)+abmagzpt #only do this to get 5-sigma measures of ABdepth (5*stdev)\n",
    "red_abmag=-2.5*np.log10(t['FLUX_APER_f105w'])+abmagzpt_red\n",
    "blue_abmag=-2.5*np.log10(t['FLUX_APER_f606w'])+abmagzpt_blue\n",
    "\n",
    "#--------------------something is going wrong between these set of lines. threesigma?------------------------------\n",
    "#3-sigma flux limit\n",
    "#o(N) = obarA + obarBN + obarCN^2\n",
    "#signal variation (o) as a function of linear aperture size (RADIUS, or sqrt area)\n",
    "#so, I know obarA (=0), obarB= 0.01246307609; and obarC = 0.0002696116525 all from empty aperture fitting, in the catalog\n",
    "#just need N, the aperture size that pertains.\n",
    "#which is 5.0 pixels (default_dualimage.sex)\n",
    "#okay but is that radius or diameter?\n",
    "#fluxlimb=(0.01246307609 * 5.0) + (0.0002696116525*25.0) #oops\n",
    "fluxlimb=(0.01246307609 *2.5) + (0.0002696116525*(2.5*2.5))\n",
    "#\n",
    "#first, since these C1 and C2 values include obar (the rms) in them, they are probably in units of counts not flux\n",
    "#next, should probably include weights from weight column should be included,right?\n",
    "#BUT, should this really be the equation for the error at a given object source in the image?\n",
    "#or should it be obar, the rms\n",
    "#honestly I think it should be obar\n",
    "#****\n",
    "photflam_red=photvals[0]\n",
    "photflam_blue=photvalsb[0]\n",
    "photplam_red=photvals[1]\n",
    "photplam_blue=photvalsb[1]\n",
    "c_ang=sp.constants.c * (10.0**10.0)\n",
    "conversion=((photplam_red*photplam_red)/c_ang)*(1.0/(10.0**(-23.0)))*(10.0**6.0)\n",
    "convb=((photplam_blue*photplam_blue)/c_ang)*(1.0/(10.0**(-23.0)))*(10.0**6.0)\n",
    "\n",
    "obar_counts_f606w,useless=depthcalc.rmscalc(fileblue,filebluemask,fileblueseg,[5,10]) #[5,10] is a junk filler array for 'aperture size' that is only used to return the 'linear size range' that goes, here, into the parameter 'useless' that we don't use for anything\n",
    "obar_f606w=obar_counts_f606w*photflam_blue*convb\n",
    "\n",
    "wi1=t['F606w_normweight']*(29770.775825471697) #wi1 is the normalized weight, so need to turn that into straight weights instead, hence why multiplying by that factor (wb10pct, from the make_a_catalog.ipynb)\n",
    "deno=np.sqrt(wi1)\n",
    "\n",
    "#****can replace the above (between the ****) with obar_f105w and obar_f606w from metatable\n",
    "# convert the units of the original?\n",
    "fluxlim2blue=(0.01246307609*(photflam_blue*convb) *2.5) + (0.0002696116525*(photflam_blue*convb)*2.5*2.5)\n",
    "\n",
    "print('flux lim b', fluxlimb)\n",
    "print('flux lim b better units?',fluxlim2blue)\n",
    "print('obar blue',obar_f606w)\n",
    "\n",
    "threesigma=fluxlimb*3.0\n",
    "#threesigma=fluxlim2blue*3.0\n",
    "#threesigma=obar_f606w*3.0\n",
    "\n",
    "#------------something is going wrong with the definition of threesigma, between these two lines\n",
    "\n",
    "lowblueflux= t[noprob]['FLUX_APER_f606w'] < threesigma\n",
    "test_lbf=noprob & (t['FLUX_APER_f606w'] < threesigma)\n",
    "test_hbf= noprob & (t['FLUX_APER_f606w'] >= threesigma)\n",
    "alternativelowbluemag=-2.5*np.log10(threesigma)+abmagzpt_blue\n",
    "altcolor=alternativelowbluemag-red_abmag\n",
    "\n",
    "#print(np.size(red_abmag), np.size(blue_abmag))\n",
    "color=blue_abmag-red_abmag\n",
    "mag=-2.5*np.log10(t['FLUX_AUTO_f105w'])+abmagzpt_red\n",
    "\n"
   ]
  },
  {
   "cell_type": "markdown",
   "metadata": {},
   "source": [
    "## Cell 5:"
   ]
  },
  {
   "cell_type": "code",
   "execution_count": 47,
   "metadata": {},
   "outputs": [
    {
     "data": {
      "image/png": "[encoded data removed]",
      "text/plain": [
       "<Figure size 432x288 with 1 Axes>"
      ]
     },
     "metadata": {
      "needs_background": "light"
     },
     "output_type": "display_data"
    }
   ],
   "source": [
    "#cell 5 \n",
    "#plotting\n",
    "#symb=u'\\u2193'\n",
    "#plt.plot(mag[test_hbf],color[test_hbf],'c*',label='all HQ sources detected in red with blue flux >= 3 $\\sigma$')\n",
    "#plt.plot(mag[test_lbf],color[test_lbf],'r+',label='all HQ sources detected in red with blue flux < 3 $\\sigma$, colors uncorrected')\n",
    "plt.plot(mag[noprob],color[noprob],'.',color='darksalmon')\n",
    "#plt.plot(mag[idx],color[idx],'o',color='darksalmon',label='HQ sources that match the GoGreen sample')\n",
    "plt.plot(mag[idx[nearby]],color[idx[nearby]],'bo',alpha=0.9,label='HQ sources that match the Gogreen sample with $\\u03B8$ < 1.0\"')\n",
    "plt.plot(mag[test_lbf],altcolor[test_lbf],'mv',markersize=4,alpha=0.5,label='3$\\sigma$ upper limits for HQ sources detected in red with blue flux < 3 $\\sigma$')\n",
    "plt.xlabel('magnitude')\n",
    "plt.ylabel('color')\n",
    "plt.legend(loc='upper left',prop={'size': 8})\n",
    "plt.title('color magnitude (HQ=high quality)')\n",
    "plt.show()\n"
   ]
  },
  {
   "cell_type": "code",
   "execution_count": null,
   "metadata": {},
   "outputs": [],
   "source": []
  }
 ],
 "metadata": {
  "kernelspec": {
   "display_name": "Python 3",
   "language": "python",
   "name": "python3"
  },
  "language_info": {
   "codemirror_mode": {
    "name": "ipython",
    "version": 3
   },
   "file_extension": ".py",
   "mimetype": "text/x-python",
   "name": "python",
   "nbconvert_exporter": "python",
   "pygments_lexer": "ipython3",
   "version": "3.6.12"
  }
 },
 "nbformat": 4,
 "nbformat_minor": 4
}
