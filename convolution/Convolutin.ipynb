{
 "cells": [
  {
   "cell_type": "raw",
   "metadata": {},
   "source": [
    "This is a notebook to perform convolution on blueward images so their PSFs can match the redward images"
   ]
  },
  {
   "cell_type": "code",
   "execution_count": 1,
   "metadata": {},
   "outputs": [],
   "source": [
    "import numpy as np\n",
    "from astropy import table\n",
    "#from reproject import reproject_exact ;not reprojecting in here\n",
    "import matplotlib.pyplot as plt\n",
    "from astropy.wcs import WCS\n",
    "from astropy.io import fits\n",
    "from astropy.convolution import Gaussian2DKernel\n",
    "from astropy.convolution import convolve\n",
    "import sewpy\n",
    "import iterate_convolution as ic\n",
    "from astropy.coordinates import SkyCoord\n",
    "import astropy.units as u\n",
    "from astropy.table import Table, join\n",
    "import astropy.table\n",
    "#from astropy.table import join_distance"
   ]
  },
  {
   "cell_type": "code",
   "execution_count": 2,
   "metadata": {},
   "outputs": [],
   "source": [
    "#original files to work with\n",
    "file1='/home/k689j329/HSTdata/j210604m5845/j210604m5845-f606w_drc_sci.fits'\n",
    "filered='/home/k689j329/HSTdata/j210604m5845/j210604m5845-f105w_drz_sci.fits'\n",
    "filereprojd='/home/k689j329/HSTdata/j2106_blue2red_exact.fits'\n",
    "hrp=fits.open(filered)\n",
    "hop=fits.open(file1)\n",
    "hpnew=fits.open(filereprojd)"
   ]
  },
  {
   "cell_type": "code",
   "execution_count": 3,
   "metadata": {},
   "outputs": [
    {
     "name": "stdout",
     "output_type": "stream",
     "text": [
      "('filtered data is size:', 88)\n",
      "('Median FWHM_IMAGE', 2.045, 'Mean FWHM_IMAGE', 2.1024999999999996)\n",
      "('filtered data is size:', 73)\n",
      "('Median FWHM_IMAGE', 1.17, 'Mean FWHM_IMAGE', 1.1631506849315068)\n"
     ]
    }
   ],
   "source": [
    "#show how good the reprojection is by looking at deltax and deltay plots\n",
    "tableold=ic.makecat(file1)\n",
    "tablereproj=ic.makecat(filereprojd)\n",
    "\n",
    "mags1=(-1.0)*np.log10(tableold['FLUX_APER'])\n",
    "tableold['MAG']=mags1\n",
    "limtableold=ic.calcfwhm(tableold)\n",
    "mags2=(-1.0)*np.log10(tablereproj['FLUX_APER'])\n",
    "tablereproj['MAG']=mags2\n",
    "limtablereproj=ic.calcfwhm(tablereproj)"
   ]
  },
  {
   "cell_type": "code",
   "execution_count": 5,
   "metadata": {},
   "outputs": [
    {
     "name": "stdout",
     "output_type": "stream",
     "text": [
      "('cdarcblue and cdarcreproj', 0.049999999999996804, 0.0999999999999972)\n",
      "('fwhmarcblue,fwhmpixblue:', 0.124999999999992, 2.5)\n",
      "('fwhmarcred,fwhmpixred:', 0.19499999999999454, 1.95)\n",
      "convolving...\n",
      "/home/k689j329/HSTdata/j2106_blue2red_exact_conv_jan210.fits\n",
      "convolving...\n",
      "/home/k689j329/HSTdata/j2106_blue2red_exact_conv_jan211.fits\n",
      "convolving...\n",
      "/home/k689j329/HSTdata/j2106_blue2red_exact_conv_jan212.fits\n",
      "convolving...\n",
      "/home/k689j329/HSTdata/j2106_blue2red_exact_conv_jan213.fits\n",
      "convolving...\n",
      "/home/k689j329/HSTdata/j2106_blue2red_exact_conv_jan214.fits\n",
      "convolving...\n",
      "/home/k689j329/HSTdata/j2106_blue2red_exact_conv_jan215.fits\n",
      "convolving...\n",
      "/home/k689j329/HSTdata/j2106_blue2red_exact_conv_jan216.fits\n",
      "convolving...\n",
      "/home/k689j329/HSTdata/j2106_blue2red_exact_conv_jan217.fits\n",
      "convolving...\n",
      "/home/k689j329/HSTdata/j2106_blue2red_exact_conv_jan218.fits\n",
      "convolving...\n",
      "/home/k689j329/HSTdata/j2106_blue2red_exact_conv_jan219.fits\n",
      "done convolving\n"
     ]
    }
   ],
   "source": [
    "# iterative convolution\n",
    "\n",
    "\n",
    "\n",
    "#do some calculations about the range of convolution kernels to try\n",
    "hdr1=hrp[0].header\n",
    "hdr2=hop[0].header\n",
    "fwhmpixred=1.95 #from earlier measurements\n",
    "#cd1red=2.7777777777E-05\n",
    "cd1red=hdr1['CD1_1']\n",
    "cdarcred=abs(cd1red) * 3600.0\n",
    "fwhmarcred= fwhmpixred*cdarcred\n",
    "fwhmpixblue=2.5 #from earlier measurements\n",
    "#cd1blue=1.388888888E-05\n",
    "cd1blue=hdr2['CD1_1']\n",
    "cdarcblue=abs(cd1blue)*3600.0\n",
    "fwhmarcblue=fwhmpixblue*cdarcblue\n",
    "#cd reprojected?\n",
    "hdrnew=hpnew[0].header\n",
    "cdreproj=hdrnew['CD1_1']\n",
    "cdarcreproj=abs(cdreproj)*3600.0\n",
    "\n",
    "print('cdarcblue and cdarcreproj',cdarcblue,cdarcreproj)\n",
    "#an average in-between value would be calculated like this: fwhm2=((fwhmarcred**2.0)-(fwhmarcblue**2.0))**(1/2)\n",
    "\n",
    "print('fwhmarcblue,fwhmpixblue:',fwhmarcblue,fwhmpixblue)\n",
    "print('fwhmarcred,fwhmpixred:',fwhmarcred,fwhmpixred)\n",
    "\n",
    "#now, what exactly do we want?\n",
    "#we want an average star's FWHM in the convolved image to be as close as possible to FWHM_red\n",
    "\n",
    "yarray1=np.linspace(fwhmarcred,fwhmarcblue,10,endpoint=True)\n",
    "yarray=yarray1/cdarcreproj\n",
    "\n",
    "\n",
    "#this was for making the new convolution files but that's done now\n",
    "files=[]\n",
    "i=0\n",
    "for item in yarray:\n",
    "    filename=ic.conv2Dgauss(filereprojd,item,i)\n",
    "    i+=1\n",
    "    files.append(filename)\n",
    "    print(filename)\n",
    "print('done convolving')"
   ]
  },
  {
   "cell_type": "code",
   "execution_count": 8,
   "metadata": {
    "scrolled": false
   },
   "outputs": [
    {
     "name": "stdout",
     "output_type": "stream",
     "text": [
      "/home/k689j329/HSTdata/j2106_blue2red_exact_conv_jan210.fits\n",
      "('convolved by FWHM', 1.95, 'pixels')\n",
      "('filtered data is size:', 77)\n",
      "('Median FWHM_IMAGE', 2.37, 'Mean FWHM_IMAGE', 2.422597402597403)\n",
      "/home/k689j329/HSTdata/j2106_blue2red_exact_conv_jan211.fits\n",
      "('convolved by FWHM', 1.8722222222222173, 'pixels')\n",
      "('filtered data is size:', 77)\n",
      "('Median FWHM_IMAGE', 2.29, 'Mean FWHM_IMAGE', 2.338051948051948)\n",
      "/home/k689j329/HSTdata/j2106_blue2red_exact_conv_jan212.fits\n",
      "('convolved by FWHM', 1.7944444444444343, 'pixels')\n",
      "('filtered data is size:', 73)\n",
      "('Median FWHM_IMAGE', 2.2, 'Mean FWHM_IMAGE', 2.2584931506849313)\n",
      "/home/k689j329/HSTdata/j2106_blue2red_exact_conv_jan213.fits\n",
      "('convolved by FWHM', 1.7166666666666517, 'pixels')\n",
      "('filtered data is size:', 74)\n",
      "('Median FWHM_IMAGE', 2.12, 'Mean FWHM_IMAGE', 2.169594594594595)\n",
      "/home/k689j329/HSTdata/j2106_blue2red_exact_conv_jan214.fits\n",
      "('convolved by FWHM', 1.6388888888888689, 'pixels')\n",
      "('filtered data is size:', 77)\n",
      "('Median FWHM_IMAGE', 2.04, 'Mean FWHM_IMAGE', 2.0537662337662335)\n",
      "/home/k689j329/HSTdata/j2106_blue2red_exact_conv_jan215.fits\n",
      "('convolved by FWHM', 1.561111111111086, 'pixels')\n",
      "('filtered data is size:', 78)\n",
      "('Median FWHM_IMAGE', 1.95, 'Mean FWHM_IMAGE', 1.955641025641026)\n",
      "/home/k689j329/HSTdata/j2106_blue2red_exact_conv_jan216.fits\n",
      "('convolved by FWHM', 1.4833333333333034, 'pixels')\n",
      "('filtered data is size:', 81)\n",
      "('Median FWHM_IMAGE', 1.85, 'Mean FWHM_IMAGE', 1.8698765432098763)\n",
      "/home/k689j329/HSTdata/j2106_blue2red_exact_conv_jan217.fits\n",
      "('convolved by FWHM', 1.4055555555555204, 'pixels')\n",
      "('filtered data is size:', 78)\n",
      "('Median FWHM_IMAGE', 1.77, 'Mean FWHM_IMAGE', 1.8156410256410258)\n",
      "/home/k689j329/HSTdata/j2106_blue2red_exact_conv_jan218.fits\n",
      "('convolved by FWHM', 1.3277777777777378, 'pixels')\n",
      "('filtered data is size:', 77)\n",
      "('Median FWHM_IMAGE', 1.68, 'Mean FWHM_IMAGE', 1.7096103896103898)\n",
      "/home/k689j329/HSTdata/j2106_blue2red_exact_conv_jan219.fits\n",
      "('convolved by FWHM', 1.249999999999955, 'pixels')\n",
      "('filtered data is size:', 71)\n",
      "('Median FWHM_IMAGE', 1.58, 'Mean FWHM_IMAGE', 1.6092957746478873)\n",
      "/home/k689j329/HSTdata/j2106_blue2red_exact_conv_jan215.fits\n"
     ]
    }
   ],
   "source": [
    "#now need to run SE, make a table, and find out how to work with that table\n",
    "#convolved j2106_f606w's best stellar sequence is fwhm_image <5 mag -2.2 to -1.0\n",
    "#add a column containing ~magnitude\n",
    "#files=['/home/k689j329/HSTdata/j2106_blue2red_exact_conv_jan210.fits','/home/k689j329/HSTdata/j2106_blue2red_exact_conv_jan211.fits','/home/k689j329/HSTdata/j2106_blue2red_exact_conv_jan212.fits','/home/k689j329/HSTdata/j2106_blue2red_exact_conv_jan213.fits','/home/k689j329/HSTdata/j2106_blue2red_exact_conv_jan214.fits','/home/k689j329/HSTdata/j2106_blue2red_exact_conv_jan215.fits','/home/k689j329/HSTdata/j2106_blue2red_exact_conv_jan216.fits']\n",
    "i=len(files)\n",
    "fwhm_median=[]\n",
    "i=0\n",
    "for item in files:\n",
    "    print(item)\n",
    "    yval=yarray[i] #in pixels\n",
    "    table1=ic.makecat(item)\n",
    "    mags=(-1.0)*np.log10(table1['FLUX_APER'])\n",
    "    table1['MAG']=mags\n",
    "    #plt.plot(table1['MAG'],table1['FWHM_IMAGE'],'ro')\n",
    "    #plt.title('Does the stellar sequence stay appropriate in this pre-determined range?')\n",
    "    #plt.ylim(0.0,4.5)\n",
    "    #plt.xlim(-2.2,-1.0)\n",
    "    #plt.show()\n",
    "    print('convolved by FWHM',yval,'pixels')\n",
    "    newlimitedtable=ic.calcfwhm(table1)\n",
    "    #you can enter plottin=True as an optional argument in calcfwhm\n",
    "    #that lets you see the stellar sequence that falls in the selection range used for making a new, limited table\n",
    "    fwhmmed=np.median(newlimitedtable['FWHM_IMAGE'])\n",
    "    fwhm_median.append(fwhmmed)\n",
    "    i+=1\n",
    "\n",
    "\n"
   ]
  },
  {
   "cell_type": "code",
   "execution_count": 33,
   "metadata": {},
   "outputs": [
    {
     "name": "stdout",
     "output_type": "stream",
     "text": [
      "('filtered data is size:', 78)\n",
      "('Median FWHM_IMAGE', 1.95, 'Mean FWHM_IMAGE', 1.955641025641026)\n",
      "78\n"
     ]
    }
   ],
   "source": [
    "#okay the best fit is /home/k689j329/HSTdata/j2106_blue2red_exact_conv_jan215.fits\n",
    "\n",
    "tablebest=ic.makecat(files[5])\n",
    "mags=(-1.0)*np.log10(tablebest['FLUX_APER'])\n",
    "tablebest['MAG']=mags\n",
    "newlimbest=ic.calcfwhm(tablebest)\n",
    "evenmorelim=newlimbest\n",
    "#evenmorelim=newlimbest[np.where(newlimbest['CLASS_STAR'] > 0.75)]\n",
    "outregions=list()\n",
    "leny=len(evenmorelim)\n",
    "print(leny)\n",
    "j=0\n",
    "while j < (leny):\n",
    "    x=evenmorelim[j]['X_IMAGE']\n",
    "    y=evenmorelim[j]['Y_IMAGE']\n",
    "    out1='circle('+str(x)+','+str(y)+',10)'\n",
    "    outregions.append(out1)\n",
    "    j+=1\n",
    "    \n",
    "f=open('/home/k689j329/HSTdata/j2106_blue2red_stars2.reg','a+')\n",
    "f.writelines(\"%s\\n\" % item for item in outregions)\n",
    "f.close()\n"
   ]
  },
  {
   "cell_type": "code",
   "execution_count": null,
   "metadata": {},
   "outputs": [],
   "source": []
  },
  {
   "cell_type": "code",
   "execution_count": 10,
   "metadata": {},
   "outputs": [
    {
     "name": "stdout",
     "output_type": "stream",
     "text": [
      "0.19499999999999454 0.124999999999992 fwhmarc\n",
      "std-dev for J2106 1.27398270043211\n"
     ]
    },
    {
     "ename": "OSError",
     "evalue": "File '/home/k689j329/HSTdata/j2106_blue2red_exact_conv_dec20.fits' already exists.",
     "output_type": "error",
     "traceback": [
      "\u001b[0;31m---------------------------------------------------------------------------\u001b[0m",
      "\u001b[0;31mOSError\u001b[0m                                   Traceback (most recent call last)",
      "\u001b[0;32m<ipython-input-10-e91e5f4019f4>\u001b[0m in \u001b[0;36m<module>\u001b[0;34m\u001b[0m\n\u001b[1;32m     54\u001b[0m \u001b[0mfilename\u001b[0m\u001b[0;34m=\u001b[0m\u001b[0mtmp2\u001b[0m\u001b[0;34m.\u001b[0m\u001b[0mreplace\u001b[0m\u001b[0;34m(\u001b[0m\u001b[0;34m'.fits'\u001b[0m\u001b[0;34m,\u001b[0m\u001b[0;34m''\u001b[0m\u001b[0;34m)\u001b[0m\u001b[0;34m\u001b[0m\u001b[0;34m\u001b[0m\u001b[0m\n\u001b[1;32m     55\u001b[0m \u001b[0moutfile\u001b[0m\u001b[0;34m=\u001b[0m\u001b[0;34m'/home/k689j329/HSTdata/'\u001b[0m\u001b[0;34m+\u001b[0m\u001b[0mfilename\u001b[0m\u001b[0;34m+\u001b[0m\u001b[0;34m'_conv_dec20.fits'\u001b[0m\u001b[0;34m\u001b[0m\u001b[0;34m\u001b[0m\u001b[0m\n\u001b[0;32m---> 56\u001b[0;31m \u001b[0mhpnew\u001b[0m\u001b[0;34m.\u001b[0m\u001b[0mwriteto\u001b[0m\u001b[0;34m(\u001b[0m\u001b[0moutfile\u001b[0m\u001b[0;34m)\u001b[0m\u001b[0;34m\u001b[0m\u001b[0;34m\u001b[0m\u001b[0m\n\u001b[0m\u001b[1;32m     57\u001b[0m \u001b[0mplt\u001b[0m\u001b[0;34m.\u001b[0m\u001b[0mimshow\u001b[0m\u001b[0;34m(\u001b[0m\u001b[0mkern\u001b[0m\u001b[0;34m)\u001b[0m\u001b[0;34m\u001b[0m\u001b[0;34m\u001b[0m\u001b[0m\n\u001b[1;32m     58\u001b[0m \u001b[0mplt\u001b[0m\u001b[0;34m.\u001b[0m\u001b[0mcolorbar\u001b[0m\u001b[0;34m(\u001b[0m\u001b[0;34m)\u001b[0m\u001b[0;34m\u001b[0m\u001b[0;34m\u001b[0m\u001b[0m\n",
      "\u001b[0;32m~/anaconda2/envs/python3/lib/python3.6/site-packages/astropy/utils/decorators.py\u001b[0m in \u001b[0;36mwrapper\u001b[0;34m(*args, **kwargs)\u001b[0m\n\u001b[1;32m    519\u001b[0m                             \u001b[0mkwargs\u001b[0m\u001b[0;34m[\u001b[0m\u001b[0mnew_name\u001b[0m\u001b[0;34m[\u001b[0m\u001b[0mi\u001b[0m\u001b[0;34m]\u001b[0m\u001b[0;34m]\u001b[0m \u001b[0;34m=\u001b[0m \u001b[0mvalue\u001b[0m\u001b[0;34m\u001b[0m\u001b[0;34m\u001b[0m\u001b[0m\n\u001b[1;32m    520\u001b[0m \u001b[0;34m\u001b[0m\u001b[0m\n\u001b[0;32m--> 521\u001b[0;31m             \u001b[0;32mreturn\u001b[0m \u001b[0mfunction\u001b[0m\u001b[0;34m(\u001b[0m\u001b[0;34m*\u001b[0m\u001b[0margs\u001b[0m\u001b[0;34m,\u001b[0m \u001b[0;34m**\u001b[0m\u001b[0mkwargs\u001b[0m\u001b[0;34m)\u001b[0m\u001b[0;34m\u001b[0m\u001b[0;34m\u001b[0m\u001b[0m\n\u001b[0m\u001b[1;32m    522\u001b[0m \u001b[0;34m\u001b[0m\u001b[0m\n\u001b[1;32m    523\u001b[0m         \u001b[0;32mreturn\u001b[0m \u001b[0mwrapper\u001b[0m\u001b[0;34m\u001b[0m\u001b[0;34m\u001b[0m\u001b[0m\n",
      "\u001b[0;32m~/anaconda2/envs/python3/lib/python3.6/site-packages/astropy/io/fits/hdu/hdulist.py\u001b[0m in \u001b[0;36mwriteto\u001b[0;34m(self, fileobj, output_verify, overwrite, checksum)\u001b[0m\n\u001b[1;32m    917\u001b[0m         \u001b[0;31m# This can accept an open file object that's open to write only, or in\u001b[0m\u001b[0;34m\u001b[0m\u001b[0;34m\u001b[0m\u001b[0;34m\u001b[0m\u001b[0m\n\u001b[1;32m    918\u001b[0m         \u001b[0;31m# append/update modes but only if the file doesn't exist.\u001b[0m\u001b[0;34m\u001b[0m\u001b[0;34m\u001b[0m\u001b[0;34m\u001b[0m\u001b[0m\n\u001b[0;32m--> 919\u001b[0;31m         \u001b[0mfileobj\u001b[0m \u001b[0;34m=\u001b[0m \u001b[0m_File\u001b[0m\u001b[0;34m(\u001b[0m\u001b[0mfileobj\u001b[0m\u001b[0;34m,\u001b[0m \u001b[0mmode\u001b[0m\u001b[0;34m=\u001b[0m\u001b[0mmode\u001b[0m\u001b[0;34m,\u001b[0m \u001b[0moverwrite\u001b[0m\u001b[0;34m=\u001b[0m\u001b[0moverwrite\u001b[0m\u001b[0;34m)\u001b[0m\u001b[0;34m\u001b[0m\u001b[0;34m\u001b[0m\u001b[0m\n\u001b[0m\u001b[1;32m    920\u001b[0m         \u001b[0mhdulist\u001b[0m \u001b[0;34m=\u001b[0m \u001b[0mself\u001b[0m\u001b[0;34m.\u001b[0m\u001b[0mfromfile\u001b[0m\u001b[0;34m(\u001b[0m\u001b[0mfileobj\u001b[0m\u001b[0;34m)\u001b[0m\u001b[0;34m\u001b[0m\u001b[0;34m\u001b[0m\u001b[0m\n\u001b[1;32m    921\u001b[0m         \u001b[0;32mtry\u001b[0m\u001b[0;34m:\u001b[0m\u001b[0;34m\u001b[0m\u001b[0;34m\u001b[0m\u001b[0m\n",
      "\u001b[0;32m~/anaconda2/envs/python3/lib/python3.6/site-packages/astropy/utils/decorators.py\u001b[0m in \u001b[0;36mwrapper\u001b[0;34m(*args, **kwargs)\u001b[0m\n\u001b[1;32m    519\u001b[0m                             \u001b[0mkwargs\u001b[0m\u001b[0;34m[\u001b[0m\u001b[0mnew_name\u001b[0m\u001b[0;34m[\u001b[0m\u001b[0mi\u001b[0m\u001b[0;34m]\u001b[0m\u001b[0;34m]\u001b[0m \u001b[0;34m=\u001b[0m \u001b[0mvalue\u001b[0m\u001b[0;34m\u001b[0m\u001b[0;34m\u001b[0m\u001b[0m\n\u001b[1;32m    520\u001b[0m \u001b[0;34m\u001b[0m\u001b[0m\n\u001b[0;32m--> 521\u001b[0;31m             \u001b[0;32mreturn\u001b[0m \u001b[0mfunction\u001b[0m\u001b[0;34m(\u001b[0m\u001b[0;34m*\u001b[0m\u001b[0margs\u001b[0m\u001b[0;34m,\u001b[0m \u001b[0;34m**\u001b[0m\u001b[0mkwargs\u001b[0m\u001b[0;34m)\u001b[0m\u001b[0;34m\u001b[0m\u001b[0;34m\u001b[0m\u001b[0m\n\u001b[0m\u001b[1;32m    522\u001b[0m \u001b[0;34m\u001b[0m\u001b[0m\n\u001b[1;32m    523\u001b[0m         \u001b[0;32mreturn\u001b[0m \u001b[0mwrapper\u001b[0m\u001b[0;34m\u001b[0m\u001b[0;34m\u001b[0m\u001b[0m\n",
      "\u001b[0;32m~/anaconda2/envs/python3/lib/python3.6/site-packages/astropy/io/fits/file.py\u001b[0m in \u001b[0;36m__init__\u001b[0;34m(self, fileobj, mode, memmap, overwrite, cache)\u001b[0m\n\u001b[1;32m    176\u001b[0m             \u001b[0mself\u001b[0m\u001b[0;34m.\u001b[0m\u001b[0m_open_fileobj\u001b[0m\u001b[0;34m(\u001b[0m\u001b[0mfileobj\u001b[0m\u001b[0;34m,\u001b[0m \u001b[0mmode\u001b[0m\u001b[0;34m,\u001b[0m \u001b[0moverwrite\u001b[0m\u001b[0;34m)\u001b[0m\u001b[0;34m\u001b[0m\u001b[0;34m\u001b[0m\u001b[0m\n\u001b[1;32m    177\u001b[0m         \u001b[0;32melif\u001b[0m \u001b[0misinstance\u001b[0m\u001b[0;34m(\u001b[0m\u001b[0mfileobj\u001b[0m\u001b[0;34m,\u001b[0m \u001b[0mstr\u001b[0m\u001b[0;34m)\u001b[0m\u001b[0;34m:\u001b[0m\u001b[0;34m\u001b[0m\u001b[0;34m\u001b[0m\u001b[0m\n\u001b[0;32m--> 178\u001b[0;31m             \u001b[0mself\u001b[0m\u001b[0;34m.\u001b[0m\u001b[0m_open_filename\u001b[0m\u001b[0;34m(\u001b[0m\u001b[0mfileobj\u001b[0m\u001b[0;34m,\u001b[0m \u001b[0mmode\u001b[0m\u001b[0;34m,\u001b[0m \u001b[0moverwrite\u001b[0m\u001b[0;34m)\u001b[0m\u001b[0;34m\u001b[0m\u001b[0;34m\u001b[0m\u001b[0m\n\u001b[0m\u001b[1;32m    179\u001b[0m         \u001b[0;32melse\u001b[0m\u001b[0;34m:\u001b[0m\u001b[0;34m\u001b[0m\u001b[0;34m\u001b[0m\u001b[0m\n\u001b[1;32m    180\u001b[0m             \u001b[0mself\u001b[0m\u001b[0;34m.\u001b[0m\u001b[0m_open_filelike\u001b[0m\u001b[0;34m(\u001b[0m\u001b[0mfileobj\u001b[0m\u001b[0;34m,\u001b[0m \u001b[0mmode\u001b[0m\u001b[0;34m,\u001b[0m \u001b[0moverwrite\u001b[0m\u001b[0;34m)\u001b[0m\u001b[0;34m\u001b[0m\u001b[0;34m\u001b[0m\u001b[0m\n",
      "\u001b[0;32m~/anaconda2/envs/python3/lib/python3.6/site-packages/astropy/io/fits/file.py\u001b[0m in \u001b[0;36m_open_filename\u001b[0;34m(self, filename, mode, overwrite)\u001b[0m\n\u001b[1;32m    542\u001b[0m \u001b[0;34m\u001b[0m\u001b[0m\n\u001b[1;32m    543\u001b[0m         \u001b[0;32mif\u001b[0m \u001b[0mmode\u001b[0m \u001b[0;34m==\u001b[0m \u001b[0;34m'ostream'\u001b[0m\u001b[0;34m:\u001b[0m\u001b[0;34m\u001b[0m\u001b[0;34m\u001b[0m\u001b[0m\n\u001b[0;32m--> 544\u001b[0;31m             \u001b[0mself\u001b[0m\u001b[0;34m.\u001b[0m\u001b[0m_overwrite_existing\u001b[0m\u001b[0;34m(\u001b[0m\u001b[0moverwrite\u001b[0m\u001b[0;34m,\u001b[0m \u001b[0;32mNone\u001b[0m\u001b[0;34m,\u001b[0m \u001b[0;32mTrue\u001b[0m\u001b[0;34m)\u001b[0m\u001b[0;34m\u001b[0m\u001b[0;34m\u001b[0m\u001b[0m\n\u001b[0m\u001b[1;32m    545\u001b[0m \u001b[0;34m\u001b[0m\u001b[0m\n\u001b[1;32m    546\u001b[0m         \u001b[0;32mif\u001b[0m \u001b[0mos\u001b[0m\u001b[0;34m.\u001b[0m\u001b[0mpath\u001b[0m\u001b[0;34m.\u001b[0m\u001b[0mexists\u001b[0m\u001b[0;34m(\u001b[0m\u001b[0mself\u001b[0m\u001b[0;34m.\u001b[0m\u001b[0mname\u001b[0m\u001b[0;34m)\u001b[0m\u001b[0;34m:\u001b[0m\u001b[0;34m\u001b[0m\u001b[0;34m\u001b[0m\u001b[0m\n",
      "\u001b[0;32m~/anaconda2/envs/python3/lib/python3.6/site-packages/astropy/io/fits/file.py\u001b[0m in \u001b[0;36m_overwrite_existing\u001b[0;34m(self, overwrite, fileobj, closed)\u001b[0m\n\u001b[1;32m    436\u001b[0m                     \u001b[0mos\u001b[0m\u001b[0;34m.\u001b[0m\u001b[0mremove\u001b[0m\u001b[0;34m(\u001b[0m\u001b[0mself\u001b[0m\u001b[0;34m.\u001b[0m\u001b[0mname\u001b[0m\u001b[0;34m)\u001b[0m\u001b[0;34m\u001b[0m\u001b[0;34m\u001b[0m\u001b[0m\n\u001b[1;32m    437\u001b[0m             \u001b[0;32melse\u001b[0m\u001b[0;34m:\u001b[0m\u001b[0;34m\u001b[0m\u001b[0;34m\u001b[0m\u001b[0m\n\u001b[0;32m--> 438\u001b[0;31m                 \u001b[0;32mraise\u001b[0m \u001b[0mOSError\u001b[0m\u001b[0;34m(\u001b[0m\u001b[0;34m\"File {!r} already exists.\"\u001b[0m\u001b[0;34m.\u001b[0m\u001b[0mformat\u001b[0m\u001b[0;34m(\u001b[0m\u001b[0mself\u001b[0m\u001b[0;34m.\u001b[0m\u001b[0mname\u001b[0m\u001b[0;34m)\u001b[0m\u001b[0;34m)\u001b[0m\u001b[0;34m\u001b[0m\u001b[0;34m\u001b[0m\u001b[0m\n\u001b[0m\u001b[1;32m    439\u001b[0m \u001b[0;34m\u001b[0m\u001b[0m\n\u001b[1;32m    440\u001b[0m     \u001b[0;32mdef\u001b[0m \u001b[0m_try_read_compressed\u001b[0m\u001b[0;34m(\u001b[0m\u001b[0mself\u001b[0m\u001b[0;34m,\u001b[0m \u001b[0mobj_or_name\u001b[0m\u001b[0;34m,\u001b[0m \u001b[0mmagic\u001b[0m\u001b[0;34m,\u001b[0m \u001b[0mmode\u001b[0m\u001b[0;34m,\u001b[0m \u001b[0mext\u001b[0m\u001b[0;34m=\u001b[0m\u001b[0;34m''\u001b[0m\u001b[0;34m)\u001b[0m\u001b[0;34m:\u001b[0m\u001b[0;34m\u001b[0m\u001b[0;34m\u001b[0m\u001b[0m\n",
      "\u001b[0;31mOSError\u001b[0m: File '/home/k689j329/HSTdata/j2106_blue2red_exact_conv_dec20.fits' already exists."
     ]
    }
   ],
   "source": [
    "#original test of convolution\n",
    "\n",
    "#y is the stddev needed for the Gaussian 2D kernel\n",
    "#Let’s try j210604m5845, which has a 0.5” depth of ~27.6 AB mag for both F105W and F606W because of times observed\n",
    "#f105w: fwhm_image average for the best stars (on the sequence, plus classstar > 0.98) 1.95, and for just the\n",
    "#ones on the sequence, 1.99, so that’s pretty good. \n",
    "#pixels aHA, pixel scale: 2.77777777777777E-05 “/pixel (…. no. I think it’s radians. so that’s 5.72957795131 “/pix \n",
    "#and so in arcsec: 11.1726770051 “ FWHM)--greg said something about degrees, though? \n",
    "#ah, yes, decimal degrees, so 2.777777e-05 decimal degrees == 0.1 “/pixel, \n",
    "#so 1.95 pixel FWHM is 0.195 arcsec FWHM\n",
    "#f606w; fwhm_image ~2.5 pixels and plate scale in decimal degrees: CD1_1 = -1.3888888888888E-05 decimal degrees \n",
    "#== 0.05 “/pixel, giving 0.125 arcsec fwhm WOO, it's bluer and it has a \"higher resolution\" ie a smaller FWHM\n",
    "#use them to give the stddev size of a 2Dgaussiankernel, I think. --FWHM = 2sqrt(2ln2) * stddev\n",
    "#FWHM=2*sqrt(2ln2)*stdev, so stdev=FWHM/2sqrt(2ln2)\n",
    "\n",
    "#so, I want to convolve it with a kernel that's somewhere between 0.125 and 0.195 arcsec in fwhm.\n",
    "#rsmall=0.125, rbig=0.195, rconv=0.15\n",
    "#std-dev of 2D Gaussian kernel should be 0.15/2sqrt(2*ln2) = 0.06369913502\n",
    "#let's try to do that calculation more generally\n",
    "hdr1=hrp[0].header\n",
    "hdr2=hop[0].header\n",
    "fwhmpixred=1.95\n",
    "#cd1red=2.7777777777E-05\n",
    "cd1red=hdr1['CD1_1']\n",
    "cdarcred=abs(cd1red) * 3600.0\n",
    "fwhmarcred= fwhmpixred*cdarcred\n",
    "fwhmpixblue=2.5\n",
    "#cd1blue=1.388888888E-05\n",
    "cd1blue=hdr2['CD1_1']\n",
    "cdarcblue=abs(cd1blue)*3600.0\n",
    "fwhmarcblue=fwhmpixblue*cdarcblue\n",
    "#fwhm2=(fwhmarcred^2-fwhmarcblue^2)^(1/2)\n",
    "#can use fwhm2 instead of fwh below \n",
    "print(fwhmarcred, fwhmarcblue, 'fwhmarc')\n",
    "fwh1=0.15\n",
    "#okay, this is written in arcsec but I need it in terms of pixels\n",
    "fwh=fwh1/cdarcblue\n",
    "y=fwh/(2*np.sqrt(2*np.log(2)))\n",
    "#y2=fwhm2/(2*np.sqrt(2*np.log(2)))\n",
    "print('std-dev for J2106',y)\n",
    "\n",
    "\n",
    "#convolution\n",
    "\n",
    "kern=Gaussian2DKernel(y)#,x_size=9,y_size=9)\n",
    "img=hpnew[0].data\n",
    "astrconv=convolve(img,kern)\n",
    "hpnew[0].data=astrconv\n",
    "\n",
    "#output\n",
    "tmpfile=filereprojd\n",
    "tmpname=tmpfile.split('/')\n",
    "tmp2=tmpname[len(tmpname)-1]\n",
    "filename=tmp2.replace('.fits','')\n",
    "outfile='/home/k689j329/HSTdata/'+filename+'_conv_dec20.fits'\n",
    "#hpnew.writeto(outfile)\n",
    "plt.imshow(kern)\n",
    "plt.colorbar()\n",
    "plt.show()\n"
   ]
  },
  {
   "cell_type": "code",
   "execution_count": 10,
   "metadata": {},
   "outputs": [
    {
     "data": {
      "image/png": "[encoded data removed]",
      "text/plain": [
       "<Figure size 432x288 with 2 Axes>"
      ]
     },
     "metadata": {
      "needs_background": "light"
     },
     "output_type": "display_data"
    }
   ],
   "source": [
    "#okay, the output doesn't look any different. let me inspect the Gaussian some more.\n",
    "#Gaussian2DKernel needs an input of standard deviation 'in x', it says\n",
    "#perhaps that means in pixels as opposed to in arcsec\n",
    "plt.imshow(kern)\n",
    "plt.colorbar()\n",
    "plt.show()"
   ]
  },
  {
   "cell_type": "code",
   "execution_count": null,
   "metadata": {},
   "outputs": [],
   "source": [
    "#well, that answers that question. no change, cuz basically multiplying by nothing. \n",
    "#What does the kernel look like in terms of pixels? well, in F606w, that is 2.5 pix\n",
    "#but there's no point in multiplying F606W by an approximation of F606W's PSF\n",
    "#how about translating the fwhm of F105w's PSF into what it would look like given F606W's pixel scale?\n",
    "#in otherwords, fwhm_f105w(arcsec) / (arcsec/pix) of f606w.\n",
    "#in that case:\n",
    "ytest=0.15 / cdarcblue\n",
    "print(ytest)\n",
    "kern2=Gaussian2DKernel(ytest)\n",
    "plt.imshow(kern2,interpolation='None',origin='lower')\n",
    "plt.colorbar()\n",
    "plt.show()"
   ]
  },
  {
   "cell_type": "code",
   "execution_count": null,
   "metadata": {},
   "outputs": [],
   "source": [
    "#okay, that sounds more reasonable, so let's try convolving with that\n",
    "#astrc2=convolve(img,kern2)\n",
    "#hop[0].data=astrc2\n",
    "#hop.writeto(outfile)\n",
    "#that is a little more accurate looking, but I used the FWHM instead of the stdev, so hold on and let's try v3\n",
    "kern3=Gaussian2DKernel(ytest/2.35)\n",
    "plt.imshow(kern3,interpolation='None',origin='lower')\n",
    "plt.colorbar()\n",
    "plt.show()"
   ]
  },
  {
   "cell_type": "code",
   "execution_count": null,
   "metadata": {},
   "outputs": [],
   "source": []
  },
  {
   "cell_type": "code",
   "execution_count": null,
   "metadata": {},
   "outputs": [],
   "source": []
  },
  {
   "cell_type": "markdown",
   "metadata": {},
   "source": [
    "below this is reprojection work that eventually led to the program reproj_kmj.py, which is found in the reprojectin folder"
   ]
  },
  {
   "cell_type": "code",
   "execution_count": null,
   "metadata": {},
   "outputs": [],
   "source": [
    "# reprojection\n",
    "#this was too big to run because of reproject_exact; I had to write a program to run it\n",
    "#and was only able to execute the program over on redbud\n",
    "file='/home/k689j329/HSTdata/j210604m5845/j210604m5845-f606w_drc_sci.fits'\n",
    "filered='/home/k689j329/HSTdata/j210604m5845/j210604m5845-f105w_drz_sci.fits'\n",
    "hrp=fits.open(filered)\n",
    "hop=fits.open(file)\n",
    "array2,footprint1= reproject_exact(hop,hrp[0].header)\n",
    "\n",
    "fits.writeto('/home/k689j329/HSTdata/j2106_blue2red_exact.fits', array2, hrp[0].header, overwrite=True)\n",
    "print('done reprojectin')\n",
    "\n",
    "#whtfileblue='/home/k689j329/HSTdata/j210604m5845/j210604m5845-f606w_drc_wht.fits'\n",
    "#whtfilered='/home/k689j329/HSTdata/j210604m5845/j210604m5845-f105w_drz_wht.fits'\n",
    "#wb=fits.open(whtfileblue)\n",
    "#wr=fits.open(whtfilered)\n",
    "#whtarray2,footprintwht=reproject_exact(wb,wr[0].header)\n",
    "#fits.writeto('/home/k689j329/HSTdata/j2106_blue2red_exact_wht.fits',whtarray2,wr[0].header,overwrite=True)\n",
    "\n",
    "#okay, this seems to rescale j2106_blue (aka j2106_f606w), but it doesn't make the sizes and shapes match. \n",
    "#should it?\n",
    "#it should register the images so that without using lock or match in ds9, blink demonstrates they are matched. that is true"
   ]
  },
  {
   "cell_type": "code",
   "execution_count": 7,
   "metadata": {},
   "outputs": [
    {
     "data": {
      "text/plain": [
       "<matplotlib.image.AxesImage at 0x7f022b331d30>"
      ]
     },
     "execution_count": 7,
     "metadata": {},
     "output_type": "execute_result"
    },
    {
     "data": {
      "image/png": "[encoded data removed]",
      "text/plain": [
       "<Figure size 432x288 with 4 Axes>"
      ]
     },
     "metadata": {
      "needs_background": "light"
     },
     "output_type": "display_data"
    }
   ],
   "source": [
    "ax1 = plt.subplot(2,2,1, projection=WCS(hop[0].header))\n",
    "ax1.imshow(hop[0].data, origin='lower', vmin=-5.e-3, vmax=5.e-3)\n",
    "#okay so the important thing is the relation between the projection and the data used\n",
    "#hop/hop and hrp/hrp produce the same coordinates; but when you mix them up then there's shifting. \n",
    "#that makes sense, that's the point of a projection I suppose\n",
    "ax2 = plt.subplot(2,2,2, projection=WCS(hrp[0].header))\n",
    "ax2.imshow(hrp[0].data,origin='lower',vmin=-5.e-3,vmax=5.e-3)\n",
    "\n",
    "#ax3 = plt.subplot(2,2,3,projection=WCS(hop[0].header))\n",
    "#ax3.imshow(hrp[0].data,origin='lower',vmin=-5.e-3,vmax=5.e-3)\n",
    "#ax4 = plt.subplot(2,2,4,projection=WCS(hrp[0].header))\n",
    "#ax4.imshow(hop[0].data,origin='lower',vmin=-5.e-3,vmax=5.e-3)\n",
    "\n",
    "ax5= plt.subplot(2,2,3,projection=WCS(hrp[0].header))\n",
    "ax5.imshow(footprint1,vmin=0,vmax=5)\n",
    "ax6 = plt.subplot(2,2,4,projection=WCS(hop[0].header))\n",
    "ax6.imshow(footprint1,vmin=0,vmax=5)"
   ]
  },
  {
   "cell_type": "code",
   "execution_count": null,
   "metadata": {},
   "outputs": [],
   "source": []
  }
 ],
 "metadata": {
  "kernelspec": {
   "display_name": "Python 2",
   "language": "python",
   "name": "python2"
  },
  "language_info": {
   "codemirror_mode": {
    "name": "ipython",
    "version": 2
   },
   "file_extension": ".py",
   "mimetype": "text/x-python",
   "name": "python",
   "nbconvert_exporter": "python",
   "pygments_lexer": "ipython2",
   "version": "2.7.16"
  }
 },
 "nbformat": 4,
 "nbformat_minor": 2
}
