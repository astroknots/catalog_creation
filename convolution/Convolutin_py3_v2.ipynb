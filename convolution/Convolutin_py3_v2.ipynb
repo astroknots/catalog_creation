{
 "cells": [
  {
   "cell_type": "markdown",
   "metadata": {},
   "source": [
    "## Cell 1:"
   ]
  },
  {
   "cell_type": "code",
   "execution_count": null,
   "metadata": {},
   "outputs": [],
   "source": [
    "#Cell 1\n",
    "# okay, so---make a bunch of convolved images\n",
    "# turn them into simple catalogs\n",
    "# then calculate the fwhm of the star-like objects in the resultant catalog\n",
    "# only challenge--I need a seeing FWHM for this thing to run.\n",
    "#hmm. what do I use for real source extractor runnings? default_dualmode.sex says:\n",
    "#I manually set it to 0.195 for the F105w filter, and 0.204 for the F606w filter. \n",
    "#if I remember correctly, this is mostly used for class_star separation, but that does sort of play a role in\n",
    "#figuring out what the fwhm of the stars are, which is exactly what we need\n",
    "#"
   ]
  },
  {
   "cell_type": "markdown",
   "metadata": {},
   "source": [
    "## Cell 2:"
   ]
  },
  {
   "cell_type": "code",
   "execution_count": 8,
   "metadata": {},
   "outputs": [],
   "source": [
    "#cell 2\n",
    "import numpy as np\n",
    "import array as arr\n",
    "from astropy import table\n",
    "#from reproject import reproject_exact ;not reprojecting in here\n",
    "import matplotlib.pyplot as plt\n",
    "from astropy.wcs import WCS\n",
    "from astropy.io import fits\n",
    "from astropy.convolution import Gaussian2DKernel\n",
    "from astropy.convolution import convolve\n",
    "import sewpy\n",
    "import iterate_convolution as ic\n",
    "from astropy.coordinates import SkyCoord\n",
    "import astropy.units as u\n",
    "from astropy.table import Table, join\n",
    "import astropy.table\n",
    "\n"
   ]
  },
  {
   "cell_type": "markdown",
   "metadata": {},
   "source": [
    "## Cell 3:"
   ]
  },
  {
   "cell_type": "code",
   "execution_count": 1,
   "metadata": {},
   "outputs": [
    {
     "ename": "NameError",
     "evalue": "name 'fits' is not defined",
     "output_type": "error",
     "traceback": [
      "\u001b[0;31m---------------------------------------------------------------------------\u001b[0m",
      "\u001b[0;31mNameError\u001b[0m                                 Traceback (most recent call last)",
      "\u001b[0;32m<ipython-input-1-2fd48011b3c8>\u001b[0m in \u001b[0;36m<module>\u001b[0;34m\u001b[0m\n\u001b[1;32m      5\u001b[0m \u001b[0;31m#this reprojd file is the output of the reprojectin.py program\u001b[0m\u001b[0;34m\u001b[0m\u001b[0;34m\u001b[0m\u001b[0;34m\u001b[0m\u001b[0m\n\u001b[1;32m      6\u001b[0m \u001b[0;34m\u001b[0m\u001b[0m\n\u001b[0;32m----> 7\u001b[0;31m \u001b[0mh_red\u001b[0m\u001b[0;34m=\u001b[0m\u001b[0mfits\u001b[0m\u001b[0;34m.\u001b[0m\u001b[0mopen\u001b[0m\u001b[0;34m(\u001b[0m\u001b[0mfilered\u001b[0m\u001b[0;34m)\u001b[0m\u001b[0;34m\u001b[0m\u001b[0;34m\u001b[0m\u001b[0m\n\u001b[0m\u001b[1;32m      8\u001b[0m \u001b[0mh_blue\u001b[0m\u001b[0;34m=\u001b[0m\u001b[0mfits\u001b[0m\u001b[0;34m.\u001b[0m\u001b[0mopen\u001b[0m\u001b[0;34m(\u001b[0m\u001b[0mfilereprojd\u001b[0m\u001b[0;34m)\u001b[0m\u001b[0;34m\u001b[0m\u001b[0;34m\u001b[0m\u001b[0m\n\u001b[1;32m      9\u001b[0m \u001b[0mh_original\u001b[0m\u001b[0;34m=\u001b[0m\u001b[0mfits\u001b[0m\u001b[0;34m.\u001b[0m\u001b[0mopen\u001b[0m\u001b[0;34m(\u001b[0m\u001b[0mfileblue\u001b[0m\u001b[0;34m)\u001b[0m\u001b[0;34m\u001b[0m\u001b[0;34m\u001b[0m\u001b[0m\n",
      "\u001b[0;31mNameError\u001b[0m: name 'fits' is not defined"
     ]
    }
   ],
   "source": [
    "#cell 3\n",
    "#original files to work with\n",
    "fileblue='/home/k689j329/HSTdata/j210604m5845/j210604m5845-f606w_drc_sci.fits'\n",
    "filered='/home/k689j329/HSTdata/j210604m5845/j210604m5845-f105w_drz_sci.fits'\n",
    "filereprojd='/home/k689j329/HSTdata/j2106_blue2red_exact.fits'\n",
    "#this reprojd file is the output of the reprojectin.py program\n",
    "\n",
    "h_red=fits.open(filered)\n",
    "h_blue=fits.open(filereprojd)\n",
    "h_original=fits.open(fileblue)\n",
    "hdr_red=h_red[0].header\n",
    "hdr_reprj=h_blue[0].header\n",
    "hdr_ogblue=h_original[0].header\n",
    "ident1='sept21_'\n",
    "ident2='sept21b_'\n",
    "\n",
    "fwhm_blue_pix = 2.5 #well, you need to measure this using imexamine/topcat; this should be true for both blue images, original and reprojected\n",
    "fwhm_red_pix = 1.85 #well, you need to measure this as ^"
   ]
  },
  {
   "cell_type": "markdown",
   "metadata": {},
   "source": [
    "## Cell 4:"
   ]
  },
  {
   "cell_type": "code",
   "execution_count": 118,
   "metadata": {
    "collapsed": true
   },
   "outputs": [
    {
     "name": "stderr",
     "output_type": "stream",
     "text": [
      "Ouch, SExtractor complains :\n",
      "b''\n",
      "/home/k689j329/anaconda2/envs/python3/lib/python3.6/site-packages/ipykernel_launcher.py:8: RuntimeWarning: invalid value encountered in log10\n",
      "  \n"
     ]
    },
    {
     "name": "stdout",
     "output_type": "stream",
     "text": [
      "filtered data is size: 24\n",
      "Median FWHM_IMAGE 1.78 Mean FWHM_IMAGE 1.7470833333333333\n",
      "0.17799999999999502\n",
      "fwhmbluearc 0.124999999999992\n",
      "convolving...\n",
      "/home/k689j329/HSTdata/j2106_blue2red_exact_conv_sept21_0.fits\n",
      "convolving...\n",
      "/home/k689j329/HSTdata/j2106_blue2red_exact_conv_sept21_1.fits\n",
      "convolving...\n",
      "/home/k689j329/HSTdata/j2106_blue2red_exact_conv_sept21_2.fits\n",
      "convolving...\n",
      "/home/k689j329/HSTdata/j2106_blue2red_exact_conv_sept21_3.fits\n",
      "convolving...\n",
      "/home/k689j329/HSTdata/j2106_blue2red_exact_conv_sept21_4.fits\n",
      "convolving...\n",
      "/home/k689j329/HSTdata/j2106_blue2red_exact_conv_sept21_5.fits\n",
      "convolving...\n",
      "/home/k689j329/HSTdata/j2106_blue2red_exact_conv_sept21_6.fits\n",
      "convolving...\n",
      "/home/k689j329/HSTdata/j2106_blue2red_exact_conv_sept21_7.fits\n",
      "convolving...\n",
      "/home/k689j329/HSTdata/j2106_blue2red_exact_conv_sept21_8.fits\n",
      "convolving...\n",
      "/home/k689j329/HSTdata/j2106_blue2red_exact_conv_sept21_9.fits\n",
      "convolving...\n",
      "/home/k689j329/HSTdata/j2106_blue2red_exact_conv_sept21_10.fits\n",
      "convolving...\n",
      "/home/k689j329/HSTdata/j2106_blue2red_exact_conv_sept21_11.fits\n",
      "convolving...\n",
      "/home/k689j329/HSTdata/j2106_blue2red_exact_conv_sept21_12.fits\n",
      "convolving...\n",
      "/home/k689j329/HSTdata/j2106_blue2red_exact_conv_sept21_13.fits\n",
      "convolving...\n",
      "/home/k689j329/HSTdata/j2106_blue2red_exact_conv_sept21_14.fits\n",
      "done convolving\n"
     ]
    }
   ],
   "source": [
    "#cell 4\n",
    "# iterative convolution\n",
    "#do some calculations about the range of convolution kernels to try\n",
    "\n",
    "cd1_red=hdr_red['CD1_1']\n",
    "cd1_red_arc=abs(cd1_red) * 3600.0\n",
    "fwhm_red_arc= fwhm_red_pix*cd1_red_arc\n",
    "table_red=ic.makecat(filered,see=fwhm_red_arc)\n",
    "pseudomag=(-1.0)*np.log10(table_red['FLUX_APER'])\n",
    "table_red['MAG']=pseudomag #calcfwhm won't run without a 'Mag' column to select the most 'stellar sequence' of objects\n",
    "redtable_temp=ic.calcfwhm(table_red,star_limit=0.8,maglow=-2.5,maghigh=-0.25,fwhmlim=3.5)\n",
    "fwhm_red_recalcd=np.median(redtable_temp['FWHM_IMAGE'])\n",
    "fwhm_red_recalc_arc=fwhm_red_recalcd*cd1_red_arc\n",
    "print(fwhm_red_recalc_arc)\n",
    "\n",
    "#only need this to get a reasonable range for the convolution kernels to try\n",
    "cd1_blue=hdr_ogblue['CD1_1']\n",
    "cd1_blue_arc=abs(cd1_blue)*3600.0\n",
    "fwhm_blue_arc=fwhm_blue_pix*cd1_blue_arc\n",
    "print('fwhmbluearc',fwhm_blue_arc)\n",
    "\n",
    "#only need this to convert to the correct pixel scale. \n",
    "cd1_reproj=hdr_reprj['CD1_1']\n",
    "cd1_reproj_arc=abs(cd1_reproj)*3600.0\n",
    "\n",
    "\n",
    "##Below, we do a first pass at a variety of convolution kernels and then take a look at their results\n",
    "\n",
    "########an average in-between value would be calculated like this: fwhm2=((fwhmarcred**2.0)-(fwhmarcblue**2.0))**(1/2)\n",
    "#or set up an array to do several convolutions, which is what is below.\n",
    "\n",
    "yarray1=np.linspace(fwhm_red_recalc_arc,fwhm_blue_arc,15,endpoint=True)\n",
    "#that's an appropriate range in arcseconds\n",
    "yarray=yarray1/cd1_reproj_arc\n",
    "#now it's in pixels\n",
    "#print(yarray1)\n",
    "\n",
    "\n",
    "m=0\n",
    "files=[]\n",
    "for item in yarray: #switch this yarray to yarr2 for next iteration\n",
    "    filename=ic.conv2Dgauss(filereprojd,item,i=m,ident=ident1)\n",
    "    m+=1\n",
    "    files.append(filename)\n",
    "    print(filename)\n",
    "print('done convolving')\n"
   ]
  },
  {
   "cell_type": "markdown",
   "metadata": {},
   "source": [
    "## Cell 5:"
   ]
  },
  {
   "cell_type": "code",
   "execution_count": 119,
   "metadata": {},
   "outputs": [
    {
     "name": "stderr",
     "output_type": "stream",
     "text": [
      "Ouch, SExtractor complains :\n",
      "b''\n"
     ]
    },
    {
     "name": "stdout",
     "output_type": "stream",
     "text": [
      "/home/k689j329/HSTdata/j2106_blue2red_exact_conv_sept21_0.fits\n",
      "convolved by FWHM 1.78 pixels, aka 0.17799999999999502 arcsec kernel\n"
     ]
    },
    {
     "name": "stderr",
     "output_type": "stream",
     "text": [
      "Ouch, SExtractor complains :\n",
      "b''\n"
     ]
    },
    {
     "name": "stdout",
     "output_type": "stream",
     "text": [
      "filtered data is size: 100\n",
      "Median FWHM_IMAGE 2.19 Mean FWHM_IMAGE 2.3036\n",
      "-------------\n",
      "/home/k689j329/HSTdata/j2106_blue2red_exact_conv_sept21_1.fits\n",
      "convolved by FWHM 1.7421428571428539 pixels, aka 0.17421428571428052 arcsec kernel\n"
     ]
    },
    {
     "name": "stderr",
     "output_type": "stream",
     "text": [
      "Ouch, SExtractor complains :\n",
      "b''\n"
     ]
    },
    {
     "name": "stdout",
     "output_type": "stream",
     "text": [
      "filtered data is size: 101\n",
      "Median FWHM_IMAGE 2.16 Mean FWHM_IMAGE 2.248217821782178\n",
      "-------------\n",
      "/home/k689j329/HSTdata/j2106_blue2red_exact_conv_sept21_2.fits\n",
      "convolved by FWHM 1.7042857142857077 pixels, aka 0.17042857142856602 arcsec kernel\n"
     ]
    },
    {
     "name": "stderr",
     "output_type": "stream",
     "text": [
      "Ouch, SExtractor complains :\n",
      "b''\n"
     ]
    },
    {
     "name": "stdout",
     "output_type": "stream",
     "text": [
      "filtered data is size: 98\n",
      "Median FWHM_IMAGE 2.11 Mean FWHM_IMAGE 2.2048979591836737\n",
      "-------------\n",
      "/home/k689j329/HSTdata/j2106_blue2red_exact_conv_sept21_3.fits\n",
      "convolved by FWHM 1.6664285714285618 pixels, aka 0.1666428571428515 arcsec kernel\n"
     ]
    },
    {
     "name": "stderr",
     "output_type": "stream",
     "text": [
      "Ouch, SExtractor complains :\n",
      "b''\n"
     ]
    },
    {
     "name": "stdout",
     "output_type": "stream",
     "text": [
      "filtered data is size: 95\n",
      "Median FWHM_IMAGE 2.08 Mean FWHM_IMAGE 2.1612631578947368\n",
      "-------------\n",
      "/home/k689j329/HSTdata/j2106_blue2red_exact_conv_sept21_4.fits\n",
      "convolved by FWHM 1.6285714285714157 pixels, aka 0.162857142857137 arcsec kernel\n"
     ]
    },
    {
     "name": "stderr",
     "output_type": "stream",
     "text": [
      "Ouch, SExtractor complains :\n",
      "b''\n"
     ]
    },
    {
     "name": "stdout",
     "output_type": "stream",
     "text": [
      "filtered data is size: 94\n",
      "Median FWHM_IMAGE 2.04 Mean FWHM_IMAGE 2.0954255319148936\n",
      "-------------\n",
      "/home/k689j329/HSTdata/j2106_blue2red_exact_conv_sept21_5.fits\n",
      "convolved by FWHM 1.5907142857142695 pixels, aka 0.1590714285714225 arcsec kernel\n"
     ]
    },
    {
     "name": "stderr",
     "output_type": "stream",
     "text": [
      "Ouch, SExtractor complains :\n",
      "b''\n"
     ]
    },
    {
     "name": "stdout",
     "output_type": "stream",
     "text": [
      "filtered data is size: 92\n",
      "Median FWHM_IMAGE 2.0 Mean FWHM_IMAGE 2.0584782608695646\n",
      "-------------\n",
      "/home/k689j329/HSTdata/j2106_blue2red_exact_conv_sept21_6.fits\n",
      "convolved by FWHM 1.5528571428571238 pixels, aka 0.15528571428570803 arcsec kernel\n"
     ]
    },
    {
     "name": "stderr",
     "output_type": "stream",
     "text": [
      "Ouch, SExtractor complains :\n",
      "b''\n"
     ]
    },
    {
     "name": "stdout",
     "output_type": "stream",
     "text": [
      "filtered data is size: 87\n",
      "Median FWHM_IMAGE 1.95 Mean FWHM_IMAGE 1.9949425287356322\n",
      "-------------\n",
      "/home/k689j329/HSTdata/j2106_blue2red_exact_conv_sept21_7.fits\n",
      "convolved by FWHM 1.5149999999999777 pixels, aka 0.15149999999999353 arcsec kernel\n"
     ]
    },
    {
     "name": "stderr",
     "output_type": "stream",
     "text": [
      "Ouch, SExtractor complains :\n",
      "b''\n"
     ]
    },
    {
     "name": "stdout",
     "output_type": "stream",
     "text": [
      "filtered data is size: 91\n",
      "Median FWHM_IMAGE 1.91 Mean FWHM_IMAGE 1.9395604395604396\n",
      "-------------\n",
      "/home/k689j329/HSTdata/j2106_blue2red_exact_conv_sept21_8.fits\n",
      "convolved by FWHM 1.4771428571428316 pixels, aka 0.14771428571427903 arcsec kernel\n"
     ]
    },
    {
     "name": "stderr",
     "output_type": "stream",
     "text": [
      "Ouch, SExtractor complains :\n",
      "b''\n"
     ]
    },
    {
     "name": "stdout",
     "output_type": "stream",
     "text": [
      "filtered data is size: 92\n",
      "Median FWHM_IMAGE 1.88 Mean FWHM_IMAGE 1.9314130434782608\n",
      "-------------\n",
      "/home/k689j329/HSTdata/j2106_blue2red_exact_conv_sept21_9.fits\n",
      "convolved by FWHM 1.4392857142856854 pixels, aka 0.14392857142856452 arcsec kernel\n"
     ]
    },
    {
     "name": "stderr",
     "output_type": "stream",
     "text": [
      "Ouch, SExtractor complains :\n",
      "b''\n"
     ]
    },
    {
     "name": "stdout",
     "output_type": "stream",
     "text": [
      "filtered data is size: 86\n",
      "Median FWHM_IMAGE 1.84 Mean FWHM_IMAGE 1.9195348837209303\n",
      "-------------\n",
      "/home/k689j329/HSTdata/j2106_blue2red_exact_conv_sept21_10.fits\n",
      "convolved by FWHM 1.4014285714285395 pixels, aka 0.14014285714285002 arcsec kernel\n"
     ]
    },
    {
     "name": "stderr",
     "output_type": "stream",
     "text": [
      "Ouch, SExtractor complains :\n",
      "b''\n"
     ]
    },
    {
     "name": "stdout",
     "output_type": "stream",
     "text": [
      "filtered data is size: 84\n",
      "Median FWHM_IMAGE 1.81 Mean FWHM_IMAGE 1.874642857142857\n",
      "-------------\n",
      "/home/k689j329/HSTdata/j2106_blue2red_exact_conv_sept21_11.fits\n",
      "convolved by FWHM 1.3635714285713934 pixels, aka 0.13635714285713552 arcsec kernel\n"
     ]
    },
    {
     "name": "stderr",
     "output_type": "stream",
     "text": [
      "Ouch, SExtractor complains :\n",
      "b''\n"
     ]
    },
    {
     "name": "stdout",
     "output_type": "stream",
     "text": [
      "filtered data is size: 89\n",
      "Median FWHM_IMAGE 1.76 Mean FWHM_IMAGE 1.851011235955056\n",
      "-------------\n",
      "/home/k689j329/HSTdata/j2106_blue2red_exact_conv_sept21_12.fits\n",
      "convolved by FWHM 1.3257142857142472 pixels, aka 0.132571428571421 arcsec kernel\n"
     ]
    },
    {
     "name": "stderr",
     "output_type": "stream",
     "text": [
      "Ouch, SExtractor complains :\n",
      "b''\n"
     ]
    },
    {
     "name": "stdout",
     "output_type": "stream",
     "text": [
      "filtered data is size: 96\n",
      "Median FWHM_IMAGE 1.725 Mean FWHM_IMAGE 1.7771875\n",
      "-------------\n",
      "/home/k689j329/HSTdata/j2106_blue2red_exact_conv_sept21_13.fits\n",
      "convolved by FWHM 1.287857142857101 pixels, aka 0.1287857142857065 arcsec kernel\n"
     ]
    },
    {
     "name": "stderr",
     "output_type": "stream",
     "text": [
      "Ouch, SExtractor complains :\n",
      "b''\n"
     ]
    },
    {
     "name": "stdout",
     "output_type": "stream",
     "text": [
      "filtered data is size: 95\n",
      "Median FWHM_IMAGE 1.67 Mean FWHM_IMAGE 1.727578947368421\n",
      "-------------\n",
      "/home/k689j329/HSTdata/j2106_blue2red_exact_conv_sept21_14.fits\n",
      "convolved by FWHM 1.249999999999955 pixels, aka 0.124999999999992 arcsec kernel\n",
      "filtered data is size: 92\n",
      "Median FWHM_IMAGE 1.605 Mean FWHM_IMAGE 1.6633695652173912\n",
      "-------------\n"
     ]
    }
   ],
   "source": [
    "#cell 5\n",
    "#now need to run SE, make a table, and find out how to work with that table\n",
    "#from making a catalog and visually inspecting it with topcat, we found convolved j2106_f606w's best stellar sequence is fwhm_image <5 mag -2.2 to -1.0\n",
    "#these parameters are adjustable with default keywords in the calcfwhm function but at the end of the day they will rely somewhat on the fwhm_red_pix and fwhm_blue_pix set in the 2nd cell of this notebook to eventually define what is and is not a star.\n",
    "#therefore star_limit keyword (which refers to the value of the CLASS_STAR parameter from Source Extractor) can indeed vary significantly depending on what is fed into makecat for the see parameter. I default use fwhm_red_arc (must be in arc per SE's requirements) since that is going to be  unconvolved/we are putting the convolved blue values in TERMS of the red image.\n",
    "#outdated(newest is sep21)\n",
    "\n",
    "fwhm_median=[]\n",
    "i=0\n",
    "for item in files:\n",
    "    print(item)\n",
    "    yval=yarray[i] #in pixels\n",
    "    yval2=yarray1[i]\n",
    "    print('convolved by FWHM',yval,'pixels, aka',yval2,'arcsec kernel')\n",
    "    table1=ic.makecat(item,see=fwhm_red_recalc_arc)\n",
    "    pseudomags=(-1.0)*np.log10(table1['FLUX_APER'])\n",
    "    table1['MAG']=pseudomags\n",
    "    #plt.plot(table1['MAG'],table1['FWHM_IMAGE'],'ro')\n",
    "    #plt.title('Does the stellar sequence stay appropriate in this pre-determined range?')\n",
    "    #plt.ylim(0.0,4.5)\n",
    "    #plt.xlim(-2.2,-1.0)\n",
    "    #plt.show()\n",
    "    newlimitedtable=ic.calcfwhm(table1)\n",
    "    #you can enter plottin=True as an optional argument in calcfwhm\n",
    "    #that lets you see the stellar sequence that falls in the selection range used for making a new, limited table\n",
    "    fwhmmed=np.median(newlimitedtable['FWHM_IMAGE'])\n",
    "    fwhm_median.append(fwhmmed)\n",
    "    print('-------------')\n",
    "    i+=1"
   ]
  },
  {
   "cell_type": "markdown",
   "metadata": {},
   "source": [
    "## Cell 6:"
   ]
  },
  {
   "cell_type": "code",
   "execution_count": 121,
   "metadata": {},
   "outputs": [
    {
     "name": "stdout",
     "output_type": "stream",
     "text": [
      "well, originally...\n"
     ]
    },
    {
     "data": {
      "image/png": "[encoded data removed]",
      "text/plain": [
       "<Figure size 432x288 with 1 Axes>"
      ]
     },
     "metadata": {
      "needs_background": "light"
     },
     "output_type": "display_data"
    },
    {
     "name": "stdout",
     "output_type": "stream",
     "text": [
      "the file identifier that produces the best psf fitting is 11 which uses a FWHM of 1.76\n",
      "originally, red image's median FWHM was 1.78\n",
      "so that means, either go onward to calculate a more precise kernel (probably for the best), or use  /home/k689j329/HSTdata/j2106_blue2red_exact_conv_sept21_11.fits\n"
     ]
    }
   ],
   "source": [
    "##cell 6\n",
    "#USE THIS PLOT TO MAKE A QUICK DETERMINATION OF WHAT CONVOLUTION KERNEL BEST RE-PRODUCES THE FWHM OF THE RED IMAGE\n",
    "#the short code below plt.show() does the calculation for you to find k, the identifier for the best-fit kernel fwhm\n",
    "#also note that due to the yarray set-up, it plots the points from right to left\n",
    "#so count from right to left if you use the image.\n",
    "\n",
    "print('well, originally...')\n",
    "plt.plot(yarray,fwhm_median,'ro')\n",
    "plt.hlines(fwhm_red_pix,xmin=yarray[0],xmax=yarray[len(yarray)-1],label='measured fwhm of F105 image (pix)')\n",
    "plt.hlines(fwhm_red_recalcd,xmin=yarray[0],xmax=yarray[len(yarray)-1],label='calculated fwhm_image of stars F105w (pix)',linestyle=':')\n",
    "plt.xlabel('fwhm of convolution kernel (pix)')\n",
    "plt.ylabel('median fwhm_image of convolved f606w image (pix)')\n",
    "plt.legend()\n",
    "plt.show()\n",
    "\n",
    "#this figures out which of the results is the best fit to the required PSF\n",
    "s=abs(fwhm_median-fwhm_red_recalcd)\n",
    "g=[]\n",
    "#b='%.3f'%s[:]\n",
    "#print(b)\n",
    "for n in s:\n",
    "    f='%.3f'%n\n",
    "    r= float(f) == np.around(s.min(),3)\n",
    "    g.append(r)\n",
    "\n",
    "k= int(np.where(g)[0])\n",
    "print('the file identifier that produces the best psf fitting is',k,'which uses a FWHM of',fwhm_median[k])\n",
    "print('originally, red image\\'s median FWHM was',fwhm_red_recalcd)\n",
    "print('so that means, either go onward to calculate a more precise kernel (probably for the best), or use ',files[k])"
   ]
  },
  {
   "cell_type": "markdown",
   "metadata": {},
   "source": [
    "## Cell 7:"
   ]
  },
  {
   "cell_type": "code",
   "execution_count": 122,
   "metadata": {
    "collapsed": true
   },
   "outputs": [
    {
     "name": "stdout",
     "output_type": "stream",
     "text": [
      "convolving...\n",
      "/home/k689j329/HSTdata/j2106_blue2red_exact_conv_sept21b_0.fits\n",
      "convolving...\n",
      "/home/k689j329/HSTdata/j2106_blue2red_exact_conv_sept21b_1.fits\n",
      "convolving...\n",
      "/home/k689j329/HSTdata/j2106_blue2red_exact_conv_sept21b_2.fits\n",
      "convolving...\n",
      "/home/k689j329/HSTdata/j2106_blue2red_exact_conv_sept21b_3.fits\n",
      "convolving...\n",
      "/home/k689j329/HSTdata/j2106_blue2red_exact_conv_sept21b_4.fits\n",
      "convolving...\n",
      "/home/k689j329/HSTdata/j2106_blue2red_exact_conv_sept21b_5.fits\n",
      "convolving...\n",
      "/home/k689j329/HSTdata/j2106_blue2red_exact_conv_sept21b_6.fits\n",
      "convolving...\n",
      "/home/k689j329/HSTdata/j2106_blue2red_exact_conv_sept21b_7.fits\n",
      "convolving...\n",
      "/home/k689j329/HSTdata/j2106_blue2red_exact_conv_sept21b_8.fits\n",
      "convolving...\n",
      "/home/k689j329/HSTdata/j2106_blue2red_exact_conv_sept21b_9.fits\n",
      "convolving...\n",
      "/home/k689j329/HSTdata/j2106_blue2red_exact_conv_sept21b_10.fits\n",
      "convolving...\n",
      "/home/k689j329/HSTdata/j2106_blue2red_exact_conv_sept21b_11.fits\n",
      "convolving...\n",
      "/home/k689j329/HSTdata/j2106_blue2red_exact_conv_sept21b_12.fits\n",
      "convolving...\n",
      "/home/k689j329/HSTdata/j2106_blue2red_exact_conv_sept21b_13.fits\n",
      "convolving...\n",
      "/home/k689j329/HSTdata/j2106_blue2red_exact_conv_sept21b_14.fits\n",
      "convolving...\n",
      "/home/k689j329/HSTdata/j2106_blue2red_exact_conv_sept21b_15.fits\n",
      "convolving...\n",
      "/home/k689j329/HSTdata/j2106_blue2red_exact_conv_sept21b_16.fits\n",
      "convolving...\n",
      "/home/k689j329/HSTdata/j2106_blue2red_exact_conv_sept21b_17.fits\n",
      "convolving...\n",
      "/home/k689j329/HSTdata/j2106_blue2red_exact_conv_sept21b_18.fits\n",
      "convolving...\n",
      "/home/k689j329/HSTdata/j2106_blue2red_exact_conv_sept21b_19.fits\n",
      "done convolving\n"
     ]
    }
   ],
   "source": [
    "#cell 7\n",
    "#For a more accurate convolution, take the best fit point at k and convolve more closely around it.\n",
    "#\n",
    "#use yarr2 in replace of yarray1\n",
    "ymax=yarray1[k]+0.01\n",
    "ymin=yarray1[k]-0.01\n",
    "ya2=np.linspace(ymax,ymin,20,endpoint=True)\n",
    "yarr2=ya2/cd1_reproj_arc\n",
    "\n",
    "\n",
    "i=0\n",
    "files2=[]\n",
    "for item2 in yarr2: #now use yarr2 for higher precision\n",
    "    filename2=ic.conv2Dgauss(filereprojd,item2,i,ident=ident2)\n",
    "    i+=1\n",
    "    files2.append(filename2)\n",
    "    print(filename2)\n",
    "print('done convolving')"
   ]
  },
  {
   "cell_type": "markdown",
   "metadata": {},
   "source": [
    "## Cell 8:"
   ]
  },
  {
   "cell_type": "code",
   "execution_count": 123,
   "metadata": {
    "collapsed": true
   },
   "outputs": [
    {
     "name": "stderr",
     "output_type": "stream",
     "text": [
      "Ouch, SExtractor complains :\n",
      "b''\n"
     ]
    },
    {
     "name": "stdout",
     "output_type": "stream",
     "text": [
      "/home/k689j329/HSTdata/j2106_blue2red_exact_conv_sept21b_0.fits\n",
      "convolved by FWHM 1.463571428571396 pixels, aka 0.14635714285713552 arcsec kernel\n"
     ]
    },
    {
     "name": "stderr",
     "output_type": "stream",
     "text": [
      "Ouch, SExtractor complains :\n",
      "b''\n"
     ]
    },
    {
     "name": "stdout",
     "output_type": "stream",
     "text": [
      "filtered data is size: 160\n",
      "Median FWHM_IMAGE 1.87 Mean FWHM_IMAGE 2.0568125\n",
      "-------------\n",
      "/home/k689j329/HSTdata/j2106_blue2red_exact_conv_sept21b_1.fits\n",
      "convolved by FWHM 1.4530451127819224 pixels, aka 0.14530451127818816 arcsec kernel\n"
     ]
    },
    {
     "name": "stderr",
     "output_type": "stream",
     "text": [
      "Ouch, SExtractor complains :\n",
      "b''\n"
     ]
    },
    {
     "name": "stdout",
     "output_type": "stream",
     "text": [
      "filtered data is size: 160\n",
      "Median FWHM_IMAGE 1.86 Mean FWHM_IMAGE 2.0440625\n",
      "-------------\n",
      "/home/k689j329/HSTdata/j2106_blue2red_exact_conv_sept21b_2.fits\n",
      "convolved by FWHM 1.4425187969924482 pixels, aka 0.14425187969924078 arcsec kernel\n"
     ]
    },
    {
     "name": "stderr",
     "output_type": "stream",
     "text": [
      "Ouch, SExtractor complains :\n",
      "b''\n"
     ]
    },
    {
     "name": "stdout",
     "output_type": "stream",
     "text": [
      "filtered data is size: 160\n",
      "Median FWHM_IMAGE 1.8450000000000002 Mean FWHM_IMAGE 2.02925\n",
      "-------------\n",
      "/home/k689j329/HSTdata/j2106_blue2red_exact_conv_sept21b_3.fits\n",
      "convolved by FWHM 1.4319924812029743 pixels, aka 0.14319924812029342 arcsec kernel\n"
     ]
    },
    {
     "name": "stderr",
     "output_type": "stream",
     "text": [
      "Ouch, SExtractor complains :\n",
      "b''\n"
     ]
    },
    {
     "name": "stdout",
     "output_type": "stream",
     "text": [
      "filtered data is size: 160\n",
      "Median FWHM_IMAGE 1.84 Mean FWHM_IMAGE 2.0158125\n",
      "-------------\n",
      "/home/k689j329/HSTdata/j2106_blue2red_exact_conv_sept21b_4.fits\n",
      "convolved by FWHM 1.4214661654135003 pixels, aka 0.14214661654134605 arcsec kernel\n"
     ]
    },
    {
     "name": "stderr",
     "output_type": "stream",
     "text": [
      "Ouch, SExtractor complains :\n",
      "b''\n"
     ]
    },
    {
     "name": "stdout",
     "output_type": "stream",
     "text": [
      "filtered data is size: 161\n",
      "Median FWHM_IMAGE 1.83 Mean FWHM_IMAGE 2.0101242236024843\n",
      "-------------\n",
      "/home/k689j329/HSTdata/j2106_blue2red_exact_conv_sept21b_5.fits\n",
      "convolved by FWHM 1.4109398496240262 pixels, aka 0.14109398496239867 arcsec kernel\n"
     ]
    },
    {
     "name": "stderr",
     "output_type": "stream",
     "text": [
      "Ouch, SExtractor complains :\n",
      "b''\n"
     ]
    },
    {
     "name": "stdout",
     "output_type": "stream",
     "text": [
      "filtered data is size: 162\n",
      "Median FWHM_IMAGE 1.81 Mean FWHM_IMAGE 1.9959876543209878\n",
      "-------------\n",
      "/home/k689j329/HSTdata/j2106_blue2red_exact_conv_sept21b_6.fits\n",
      "convolved by FWHM 1.4004135338345522 pixels, aka 0.1400413533834513 arcsec kernel\n"
     ]
    },
    {
     "name": "stderr",
     "output_type": "stream",
     "text": [
      "Ouch, SExtractor complains :\n",
      "b''\n"
     ]
    },
    {
     "name": "stdout",
     "output_type": "stream",
     "text": [
      "filtered data is size: 164\n",
      "Median FWHM_IMAGE 1.8 Mean FWHM_IMAGE 1.996646341463415\n",
      "-------------\n",
      "/home/k689j329/HSTdata/j2106_blue2red_exact_conv_sept21b_7.fits\n",
      "convolved by FWHM 1.3898872180450783 pixels, aka 0.13898872180450395 arcsec kernel\n"
     ]
    },
    {
     "name": "stderr",
     "output_type": "stream",
     "text": [
      "Ouch, SExtractor complains :\n",
      "b''\n"
     ]
    },
    {
     "name": "stdout",
     "output_type": "stream",
     "text": [
      "filtered data is size: 166\n",
      "Median FWHM_IMAGE 1.79 Mean FWHM_IMAGE 1.9849397590361446\n",
      "-------------\n",
      "/home/k689j329/HSTdata/j2106_blue2red_exact_conv_sept21b_8.fits\n",
      "convolved by FWHM 1.3793609022556044 pixels, aka 0.13793609022555658 arcsec kernel\n"
     ]
    },
    {
     "name": "stderr",
     "output_type": "stream",
     "text": [
      "Ouch, SExtractor complains :\n",
      "b''\n"
     ]
    },
    {
     "name": "stdout",
     "output_type": "stream",
     "text": [
      "filtered data is size: 166\n",
      "Median FWHM_IMAGE 1.77 Mean FWHM_IMAGE 1.971987951807229\n",
      "-------------\n",
      "/home/k689j329/HSTdata/j2106_blue2red_exact_conv_sept21b_9.fits\n",
      "convolved by FWHM 1.3688345864661302 pixels, aka 0.1368834586466092 arcsec kernel\n"
     ]
    },
    {
     "name": "stderr",
     "output_type": "stream",
     "text": [
      "Ouch, SExtractor complains :\n",
      "b''\n"
     ]
    },
    {
     "name": "stdout",
     "output_type": "stream",
     "text": [
      "filtered data is size: 166\n",
      "Median FWHM_IMAGE 1.76 Mean FWHM_IMAGE 1.9663855421686751\n",
      "-------------\n",
      "/home/k689j329/HSTdata/j2106_blue2red_exact_conv_sept21b_10.fits\n",
      "convolved by FWHM 1.3583082706766563 pixels, aka 0.13583082706766184 arcsec kernel\n"
     ]
    },
    {
     "name": "stderr",
     "output_type": "stream",
     "text": [
      "Ouch, SExtractor complains :\n",
      "b''\n"
     ]
    },
    {
     "name": "stdout",
     "output_type": "stream",
     "text": [
      "filtered data is size: 169\n",
      "Median FWHM_IMAGE 1.75 Mean FWHM_IMAGE 1.9592307692307693\n",
      "-------------\n",
      "/home/k689j329/HSTdata/j2106_blue2red_exact_conv_sept21b_11.fits\n",
      "convolved by FWHM 1.3477819548871826 pixels, aka 0.13477819548871448 arcsec kernel\n"
     ]
    },
    {
     "name": "stderr",
     "output_type": "stream",
     "text": [
      "Ouch, SExtractor complains :\n",
      "b''\n"
     ]
    },
    {
     "name": "stdout",
     "output_type": "stream",
     "text": [
      "filtered data is size: 169\n",
      "Median FWHM_IMAGE 1.73 Mean FWHM_IMAGE 1.9466272189349114\n",
      "-------------\n",
      "/home/k689j329/HSTdata/j2106_blue2red_exact_conv_sept21b_12.fits\n",
      "convolved by FWHM 1.3372556390977082 pixels, aka 0.1337255639097671 arcsec kernel\n"
     ]
    },
    {
     "name": "stderr",
     "output_type": "stream",
     "text": [
      "Ouch, SExtractor complains :\n",
      "b''\n"
     ]
    },
    {
     "name": "stdout",
     "output_type": "stream",
     "text": [
      "filtered data is size: 169\n",
      "Median FWHM_IMAGE 1.72 Mean FWHM_IMAGE 1.9345562130177514\n",
      "-------------\n",
      "/home/k689j329/HSTdata/j2106_blue2red_exact_conv_sept21b_13.fits\n",
      "convolved by FWHM 1.3267293233082345 pixels, aka 0.13267293233081973 arcsec kernel\n"
     ]
    },
    {
     "name": "stderr",
     "output_type": "stream",
     "text": [
      "Ouch, SExtractor complains :\n",
      "b''\n"
     ]
    },
    {
     "name": "stdout",
     "output_type": "stream",
     "text": [
      "filtered data is size: 168\n",
      "Median FWHM_IMAGE 1.7 Mean FWHM_IMAGE 1.9153571428571428\n",
      "-------------\n",
      "/home/k689j329/HSTdata/j2106_blue2red_exact_conv_sept21b_14.fits\n",
      "convolved by FWHM 1.3162030075187605 pixels, aka 0.13162030075187237 arcsec kernel\n"
     ]
    },
    {
     "name": "stderr",
     "output_type": "stream",
     "text": [
      "Ouch, SExtractor complains :\n",
      "b''\n"
     ]
    },
    {
     "name": "stdout",
     "output_type": "stream",
     "text": [
      "filtered data is size: 168\n",
      "Median FWHM_IMAGE 1.69 Mean FWHM_IMAGE 1.9000000000000004\n",
      "-------------\n",
      "/home/k689j329/HSTdata/j2106_blue2red_exact_conv_sept21b_15.fits\n",
      "convolved by FWHM 1.3056766917292864 pixels, aka 0.13056766917292498 arcsec kernel\n"
     ]
    },
    {
     "name": "stderr",
     "output_type": "stream",
     "text": [
      "Ouch, SExtractor complains :\n",
      "b''\n"
     ]
    },
    {
     "name": "stdout",
     "output_type": "stream",
     "text": [
      "filtered data is size: 167\n",
      "Median FWHM_IMAGE 1.68 Mean FWHM_IMAGE 1.8766467065868262\n",
      "-------------\n",
      "/home/k689j329/HSTdata/j2106_blue2red_exact_conv_sept21b_16.fits\n",
      "convolved by FWHM 1.2951503759398124 pixels, aka 0.12951503759397762 arcsec kernel\n"
     ]
    },
    {
     "name": "stderr",
     "output_type": "stream",
     "text": [
      "Ouch, SExtractor complains :\n",
      "b''\n"
     ]
    },
    {
     "name": "stdout",
     "output_type": "stream",
     "text": [
      "filtered data is size: 170\n",
      "Median FWHM_IMAGE 1.67 Mean FWHM_IMAGE 1.8864705882352937\n",
      "-------------\n",
      "/home/k689j329/HSTdata/j2106_blue2red_exact_conv_sept21b_17.fits\n",
      "convolved by FWHM 1.2846240601503385 pixels, aka 0.12846240601503026 arcsec kernel\n"
     ]
    },
    {
     "name": "stderr",
     "output_type": "stream",
     "text": [
      "Ouch, SExtractor complains :\n",
      "b''\n"
     ]
    },
    {
     "name": "stdout",
     "output_type": "stream",
     "text": [
      "filtered data is size: 173\n",
      "Median FWHM_IMAGE 1.65 Mean FWHM_IMAGE 1.8872832369942196\n",
      "-------------\n",
      "/home/k689j329/HSTdata/j2106_blue2red_exact_conv_sept21b_18.fits\n",
      "convolved by FWHM 1.2740977443608643 pixels, aka 0.12740977443608287 arcsec kernel\n"
     ]
    },
    {
     "name": "stderr",
     "output_type": "stream",
     "text": [
      "Ouch, SExtractor complains :\n",
      "b''\n"
     ]
    },
    {
     "name": "stdout",
     "output_type": "stream",
     "text": [
      "filtered data is size: 174\n",
      "Median FWHM_IMAGE 1.64 Mean FWHM_IMAGE 1.868448275862069\n",
      "-------------\n",
      "/home/k689j329/HSTdata/j2106_blue2red_exact_conv_sept21b_19.fits\n",
      "convolved by FWHM 1.2635714285713904 pixels, aka 0.1263571428571355 arcsec kernel\n",
      "filtered data is size: 174\n",
      "Median FWHM_IMAGE 1.625 Mean FWHM_IMAGE 1.8560344827586204\n",
      "-------------\n"
     ]
    }
   ],
   "source": [
    "#cell 8\n",
    "#the same as Cell 4 above-- calculate the resultant fwhm for the convolved images\n",
    "fwhm_median2=[]\n",
    "j=0\n",
    "for item in files2:\n",
    "    print(item)\n",
    "    yval=yarr2[j] #in pixels\n",
    "    yval2=ya2[j] #in arcsec\n",
    "    print('convolved by FWHM',yval,'pixels, aka',yval2,'arcsec kernel')\n",
    "    table2=ic.makecat(item,see=fwhm_red_pix)\n",
    "    pseudomags2=(-1.0)*np.log10(table2['FLUX_APER'])\n",
    "    table2['MAG']=pseudomags2\n",
    "    #plt.plot(table1['MAG'],table1['FWHM_IMAGE'],'ro')\n",
    "    #plt.title('Does the stellar sequence stay appropriate in this pre-determined range?')\n",
    "    #plt.ylim(0.0,4.5)\n",
    "    #plt.xlim(-2.2,-1.0)\n",
    "    #plt.show() \n",
    "    newlimitedtable2=ic.calcfwhm(table2)\n",
    "    #you can enter plottin=True as an optional argument in calcfwhm\n",
    "    #that lets you see the stellar sequence that falls in the selection range used for making a new, limited table\n",
    "    fwhmmed2=np.median(newlimitedtable2['FWHM_IMAGE'])\n",
    "    fwhm_median2.append(fwhmmed2)\n",
    "    print('-------------')\n",
    "    j+=1\n",
    "    "
   ]
  },
  {
   "cell_type": "markdown",
   "metadata": {},
   "source": [
    "## Cell 9:"
   ]
  },
  {
   "cell_type": "code",
   "execution_count": 131,
   "metadata": {},
   "outputs": [
    {
     "name": "stdout",
     "output_type": "stream",
     "text": [
      "well, originally...\n"
     ]
    },
    {
     "data": {
      "image/png": "[encoded data removed]",
      "text/plain": [
       "<Figure size 432x288 with 1 Axes>"
      ]
     },
     "metadata": {
      "needs_background": "light"
     },
     "output_type": "display_data"
    },
    {
     "name": "stdout",
     "output_type": "stream",
     "text": [
      "now, with higher accuracy:\n"
     ]
    },
    {
     "data": {
      "image/png": "[encoded data removed]",
      "text/plain": [
       "<Figure size 432x288 with 1 Axes>"
      ]
     },
     "metadata": {
      "needs_background": "light"
     },
     "output_type": "display_data"
    },
    {
     "name": "stdout",
     "output_type": "stream",
     "text": [
      "[7 8]\n",
      "the file identifier that produces the best psf fitting is 7 which uses a FWHM of 1.79\n",
      "originally, red image's median FWHM was 1.78\n",
      "so use  /home/k689j329/HSTdata/j2106_blue2red_exact_conv_sept21b_7.fits\n"
     ]
    }
   ],
   "source": [
    "#cell 9\n",
    "###now, compare the two plots\n",
    "\n",
    "#also note that due to the yarray set-up, it plots the points from right to left\n",
    "#so count from right to left if you use the image.\n",
    "print('well, originally...')\n",
    "plt.plot(yarray,fwhm_median,'ro')\n",
    "plt.hlines(fwhm_red_pix,xmin=yarray[0],xmax=yarray[len(yarray)-1],label='measured fwhm of F105 image (pix)')\n",
    "plt.hlines(fwhm_red_recalcd,xmin=yarray[0],xmax=yarray[len(yarray)-1],label='calculated fwhm_image of stars F105w (pix)',linestyle=':')\n",
    "plt.xlabel('fwhm of convolution kernel (pix)')\n",
    "plt.ylabel('median fwhm_image of convolved f606w image (pix)')\n",
    "plt.legend()\n",
    "plt.show()\n",
    "\n",
    "#also note that due to the yarr2 set-up, it plots the points from right to left\n",
    "#so count from right to left if you use the image.\n",
    "print('now, with higher accuracy:')\n",
    "plt.plot(yarr2,fwhm_median2,'ro')\n",
    "plt.hlines(fwhm_red_pix,xmin=yarr2[0],xmax=yarr2[len(yarr2)-1],label='measured FWHM of F105W image (Pixels)')\n",
    "plt.hlines(fwhm_red_recalcd,xmin=yarray[0],xmax=yarray[len(yarray)-1],label='calculated fwhm_image of stars F105w (pix)',linestyle=':')\n",
    "plt.xlabel('FWHM of convolution kernel (pixels)')\n",
    "plt.ylabel('Median FWHM_IMAGE of convolved F606w image')\n",
    "plt.legend()\n",
    "plt.show()\n",
    "\n",
    "\n",
    "o=abs(fwhm_median2-fwhm_red_recalcd)\n",
    "p=[]\n",
    "#b='%.3f'%s[:]\n",
    "#print(b)\n",
    "for y in o:\n",
    "    f='%.3f'%y\n",
    "    r= float(f) == np.around(o.min(),3)\n",
    "    p.append(r)\n",
    "\n",
    "t= int(np.where(p)[0])\n",
    "print('the file identifier that produces the best psf fitting is',t,'which uses a FWHM of',fwhm_median2[t])\n",
    "print('originally, red image\\'s median FWHM was',fwhm_red_recalcd)\n",
    "print('so use ',files2[t])"
   ]
  },
  {
   "cell_type": "markdown",
   "metadata": {},
   "source": [
    "# **below this is a mostly obsolete example. 'ware all who enter here**"
   ]
  },
  {
   "cell_type": "code",
   "execution_count": 20,
   "metadata": {},
   "outputs": [
    {
     "name": "stderr",
     "output_type": "stream",
     "text": [
      "Ouch, SExtractor complains :\n",
      "b''\n",
      "/home/k689j329/anaconda2/envs/python3/lib/python3.6/site-packages/ipykernel_launcher.py:15: RuntimeWarning: invalid value encountered in log10\n",
      "  from ipykernel import kernelapp as app\n",
      "Ouch, SExtractor complains :\n",
      "b''\n"
     ]
    },
    {
     "name": "stdout",
     "output_type": "stream",
     "text": [
      "table105 seeing and pixel scale 0.19499999999999454 0.0999999999999972\n",
      "filtered data is size: 23\n",
      "Median FWHM_IMAGE 1.83 Mean FWHM_IMAGE 1.856086956521739\n",
      "table blue seeing and pixel scale should be familiar 0.2039999999999943 0.0999999999999972\n",
      "filtered data is size: 78\n",
      "Median FWHM_IMAGE 1.84 Mean FWHM_IMAGE 1.8984615384615382\n"
     ]
    },
    {
     "data": {
      "image/png": "[encoded data removed]",
      "text/plain": [
       "<Figure size 432x288 with 1 Axes>"
      ]
     },
     "metadata": {
      "needs_background": "light"
     },
     "output_type": "display_data"
    },
    {
     "name": "stdout",
     "output_type": "stream",
     "text": [
      "/home/k689j329/HSTdata/j2106_blue2red_exact_conv_aug21_5.fits\n"
     ]
    }
   ],
   "source": [
    "####### an example used to see how well a file fits a particular set up. \n",
    "\n",
    "goodfilered=filered\n",
    "hrp=fits.open(goodfilered)\n",
    "goodfileblue=files[5]\n",
    "\n",
    "#since feb217 is the 'good one', the best convolution, let's look at the stellar sequence of that compared to F105w\n",
    "hdr_105=hrp[0].header\n",
    "fwhmpix105=1.95\n",
    "cd1_105=hdr_105['CD1_1']\n",
    "cd105_arc=abs(cd1_105)*3600.0\n",
    "fwhmarc105=fwhmpix105*cd105_arc\n",
    "table105=ic.makecat(goodfilered,see=fwhmarc105,ps=cd105_arc)\n",
    "print('table105 seeing and pixel scale',fwhmarc105,cd105_arc)\n",
    "magsr=(-1.0)*np.log10(table105['FLUX_APER'])\n",
    "table105['MAG']=magsr\n",
    "limitable105=ic.calcfwhm(table105)\n",
    "\n",
    "blueimage=goodfileblue\n",
    "hdb=fits.open(blueimage)\n",
    "hdr_blue2=hdb[0].header\n",
    "#fpixb=1.95\n",
    "fpixb=2.04\n",
    "#gack. where does fpixb come from again? may need to re-measure it\n",
    "cd_blue2=hdr_blue2['CD1_1']\n",
    "cd_arcblue2= abs(cd_blue2)*3600.0\n",
    "farcb=fpixb*cd_arcblue2\n",
    "tab_blu=ic.makecat(blueimage,see=farcb,ps=cd_arcblue2)\n",
    "print('table blue seeing and pixel scale should be familiar',farcb,cd_arcblue2)\n",
    "mblu=(-1.0)*np.log10(tab_blu['FLUX_APER'])\n",
    "tab_blu['MAG']=mblu\n",
    "limblu=ic.calcfwhm(tab_blu)\n",
    "\n",
    "plt.plot(limitable105['MAG'],limitable105['FWHM_IMAGE'],'ro',label='F105W')\n",
    "plt.plot(limblu['MAG'],limblu['FWHM_IMAGE'],'b*',label='F606W, projected and convolved')\n",
    "plt.hlines(np.median(limblu['FWHM_IMAGE']),xmin=np.min(limblu['MAG']),xmax=np.max(limblu['MAG']),color='g',label='median FWHM_IMAGE (pix), f606w')\n",
    "plt.hlines(np.mean(limblu['FWHM_IMAGE']),xmin=np.min(limblu['MAG']),xmax=np.max(limblu['MAG']),color='c',label='mean FWHM_IMAGE (pix), f606w')\n",
    "plt.hlines(np.median(limitable105['FWHM_IMAGE']),xmin=np.min(limitable105['MAG']),xmax=np.max(limitable105['MAG']),linestyle=':',color='r',label='median FWHM_IMAGE (pix), f105w')\n",
    "plt.hlines(np.mean(limitable105['FWHM_IMAGE']),xmin=np.min(limitable105['MAG']),xmax=np.max(limitable105['MAG']),color='m',linestyle=':',label='mean FWHM_IMAGE (pix) f105w')\n",
    "#plt.hlines(1.95,xmin=yarray[0],xmax=yarray[len(yarray)-1],label='measured FWHM of F105W image (Pixels)')\n",
    "plt.xlabel('magnitude (-1 * log(flux_aper))')\n",
    "plt.ylim(1.5,2.25)\n",
    "plt.ylabel('FWHM_IMAGE')\n",
    "plt.legend(fontsize='x-small',loc=\"upper left\")\n",
    "plt.show()\n",
    "\n",
    "print(files[5])\n",
    "\n",
    "\n",
    "#plt.scatter(limtablereproj['MAG'],limtablereproj['FWHM_IMAGE'])\n",
    "#plt.scatter(limitable105['MAG'],limitable105['FWHM_IMAGE'])\n",
    "#plt.show()"
   ]
  }
 ],
 "metadata": {
  "kernelspec": {
   "display_name": "Python 3",
   "language": "python",
   "name": "python3"
  },
  "language_info": {
   "codemirror_mode": {
    "name": "ipython",
    "version": 3
   },
   "file_extension": ".py",
   "mimetype": "text/x-python",
   "name": "python",
   "nbconvert_exporter": "python",
   "pygments_lexer": "ipython3",
   "version": "3.6.12"
  }
 },
 "nbformat": 4,
 "nbformat_minor": 4
}
